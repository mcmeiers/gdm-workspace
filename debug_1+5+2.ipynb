{
 "cells": [
  {
   "cell_type": "code",
   "execution_count": 1,
   "metadata": {},
   "outputs": [],
   "source": [
    "from pathlib import Path\n",
    "\n",
    "import src.gdmtools as gdmtools\n",
    "\n",
    "from cobaya.run import run\n",
    "from cobaya.log import LoggedError\n",
    "\n",
    "from classy import Class"
   ]
  },
  {
   "cell_type": "code",
   "execution_count": 2,
   "metadata": {},
   "outputs": [],
   "source": [
    "PROJECT_NAME = \"gdm_alpha_5w_2c_fixed_ends\"\n",
    "\n",
    "\n",
    "PROJECT_DIR = (Path.cwd() / PROJECT_NAME )  # Path(\"/opt/project/\") / PROJECT_NAME / \"\"\n",
    "\n",
    "CHAIN_DIR = PROJECT_DIR / \"chains/\"\n",
    "(CHAIN_DIR / \"\").mkdir(exist_ok=True, parents=True)\n",
    "\n",
    "COBAYA_PACKAGES_PATH = Path(\"../\")\n",
    "CLASS_PATH = \"/home/mmeiers/Projects/gdm_cosmology/code/my-class\" #COBAYA_PACKAGES_PATH / \"code/class_public-designer/\"\n",
    "\n"
   ]
  },
  {
   "cell_type": "code",
   "execution_count": 3,
   "metadata": {},
   "outputs": [],
   "source": [
    "gdm_model = gdmtools.yaml.load(PROJECT_DIR / f\"{PROJECT_NAME}+model.yaml\")"
   ]
  },
  {
   "cell_type": "code",
   "execution_count": 4,
   "metadata": {},
   "outputs": [],
   "source": [
    "\n",
    "lcdm_params = {\n",
    "    \"logA\": {\n",
    "        \"prior\": {\"min\": 1.61, \"max\": 3.91},\n",
    "        \"ref\": {\"dist\": \"norm\", \"loc\": 3.05, \"scale\": 0.001},\n",
    "        \"proposal\": 0.001,\n",
    "        \"latex\": \"\\\\log(10^{10} A_\\\\mathrm{s})\",\n",
    "        \"drop\": True,\n",
    "    },\n",
    "    \"A_s\": {\"value\": \"lambda logA: 1e-10*np.exp(logA)\", \"latex\": \"A_\\\\mathrm{s}\"},\n",
    "    \"n_s\": {\n",
    "        \"prior\": {\"min\": 0.8, \"max\": 1.2},\n",
    "        \"ref\": {\"dist\": \"norm\", \"loc\": 0.965, \"scale\": 0.004},\n",
    "        \"proposal\": 0.002,\n",
    "        \"latex\": \"n_\\\\mathrm{s}\",\n",
    "    },\n",
    "    \"theta_s_1e2\": {\n",
    "        \"prior\": {\"min\": 0.5, \"max\": 10},\n",
    "        \"ref\": {\"dist\": \"norm\", \"loc\": 1.0416, \"scale\": 0.0004},\n",
    "        \"proposal\": 0.0002,\n",
    "        \"latex\": \"100\\\\theta_\\\\mathrm{s}\",\n",
    "        \"drop\": True,\n",
    "    },\n",
    "    \"100*theta_s\": {\"value\": \"lambda theta_s_1e2: theta_s_1e2\", \"derived\": False},\n",
    "    \"H0\": {\"min\": 60, \"max\": 80, \"latex\": \"H_0\"},\n",
    "    \"sigma8\": {\"latex\": \"\\sigma_8\"},\n",
    "    \"omega_b\": {\n",
    "        \"prior\": {\"min\": 0.005, \"max\": 0.1},\n",
    "        \"ref\": {\"dist\": \"norm\", \"loc\": 0.0224, \"scale\": 0.0001},\n",
    "        \"proposal\": 0.0001,\n",
    "        \"latex\": \"\\\\Omega_\\\\mathrm{b} h^2\",\n",
    "    },\n",
    "    \"omega_cdm\": {\n",
    "        \"prior\": {\"min\": 0.001, \"max\": 0.99},\n",
    "        \"ref\": {\"dist\": \"norm\", \"loc\": 0.12, \"scale\": 0.001},\n",
    "        \"proposal\": 0.0005,\n",
    "        \"latex\": \"\\\\Omega_\\\\mathrm{c} h^2\",\n",
    "    },\n",
    "    \"z_reio\": {\n",
    "        \"prior\": {\"min\": 6, \"max\": 9},\n",
    "        \"ref\": {\"dist\": \"norm\", \"loc\": 7.5, \"scale\": 0.75},\n",
    "        \"proposal\": 0.4,\n",
    "    },\n",
    "    \"tau_reio\": {\"latex\": \"\\\\tau_\\\\mathrm{reio}\"},\n",
    "    \"Omega_gdm_max\": None,\n",
    "    \"z_gdm_max\": None\n",
    "}\n"
   ]
  },
  {
   "cell_type": "code",
   "execution_count": 5,
   "metadata": {},
   "outputs": [],
   "source": [
    "def gdm_likeihood(_self):\n",
    "    bg =_self.provider.get_CLASS_background()\n",
    "    Omega_gdm = bg['(.)rho_gdm']/bg['H [1/Mpc]']**2\n",
    "    Omega_gdm_max_idx = np.argmax(Omega_gdm)\n",
    "    return (0, {'Omega_gdm_max': Omega_gdm[Omega_gdm_max_idx], 'z_gdm_max': bg['z'][Omega_gdm_max_idx]})"
   ]
  },
  {
   "cell_type": "markdown",
   "metadata": {},
   "source": []
  },
  {
   "cell_type": "code",
   "execution_count": 6,
   "metadata": {},
   "outputs": [],
   "source": [
    "cobaya_info = dict(\n",
    "    theory={\n",
    "        \"classy\": {\n",
    "            \"extra_args\": {\n",
    "                **gdm_model.fixed_settings,\n",
    "                \"non_linear\": \"hmcode\",\n",
    "                \"l_max_scalars\": 5000,\n",
    "            },\n",
    "            #\"path\": str(CLASS_PATH),\n",
    "            'provides': {'CLASS_background': None},\n",
    "            'ignore_obsolete': True,\n",
    "        }\n",
    "    },\n",
    "    params={**lcdm_params, **gdm_model.params},\n",
    "    likelihood={\n",
    "        \"planck_2018_lowl.TT\": None,\n",
    "        \"planck_2018_lowl.EE\": None,\n",
    "        \"planck_2018_highl_plik.TTTEEE_lite\": None,\n",
    "        \"planck_2018_lensing.clik\": None,\n",
    "        'gdm': {'external': gdm_likeihood,\n",
    "                'output_params': ['Omega_gdm_max','z_gdm_max'],\n",
    "                'requires': {'CLASS_background': None}},\n",
    "    },\n",
    "    sampler=dict(\n",
    "        mcmc={\n",
    "            \"drag\": True,\n",
    "            \"oversample_power\": 0.4,\n",
    "            \"proposal_scale\": 1.9,\n",
    "            \"covmat\": \"auto\",\n",
    "            \"Rminus1_stop\": 0.01,\n",
    "            \"Rminus1_cl_stop\": 0.025,\n",
    "        }\n",
    "    ),\n",
    "    output=str(CHAIN_DIR),\n",
    "    resume= True,\n",
    "    packages_path=str(COBAYA_PACKAGES_PATH),\n",
    ")"
   ]
  },
  {
   "cell_type": "code",
   "execution_count": 7,
   "metadata": {},
   "outputs": [
    {
     "name": "stdout",
     "output_type": "stream",
     "text": [
      "[model] *WARNING* Ignored blocks/options: ['sampler', 'output', 'resume']\n",
      "[classy] `classy` module loaded successfully from /home/mcmeiers/anaconda3/envs/py39/lib/python3.9/site-packages\n",
      "[planck_2018_lowl.tt] `clik` module loaded successfully from /home/mcmeiers/Projects/gdm_cosmology/code/planck/code/plc_3.0/plc-3.1/lib/python/site-packages/clik\n",
      "----\n",
      "clik version plc_3.1\n",
      "  gibbs_gauss b13c8fda-1837-41b5-ae2d-78d6b723fcf1\n",
      "Checking likelihood '../data/planck_2018/baseline/plc_3.0/low_l/commander/commander_dx12_v3_2_29.clik' on test data. got -11.6257 expected -11.6257 (diff -1.07424e-09)\n",
      "----\n",
      "[planck_2018_lowl.ee] `clik` module loaded successfully from /home/mcmeiers/Projects/gdm_cosmology/code/planck/code/plc_3.0/plc-3.1/lib/python/site-packages/clik\n",
      "Initializing SimAll\n",
      "----\n",
      "clik version plc_3.1\n",
      "  simall simall_EE_BB_TE\n",
      "Checking likelihood '../data/planck_2018/baseline/plc_3.0/low_l/simall/simall_100x143_offlike5_EE_Aplanck_B.clik' on test data. got -197.99 expected -197.99 (diff -4.1778e-08)\n",
      "----\n",
      "[planck_2018_highl_plik.ttteee_lite] `clik` module loaded successfully from /home/mcmeiers/Projects/gdm_cosmology/code/planck/code/plc_3.0/plc-3.1/lib/python/site-packages/clik\n",
      " Initializing Planck likelihood, version Plik_v22_cmbonly_like                                                                                                                                                                                                                                                                                                                                                                                                                                                                                               \n",
      "----\n",
      "clik version plc_3.1\n",
      "  plik_cmbonly\n",
      "Checking likelihood '../data/planck_2018/baseline/plc_3.0/hi_l/plik_lite/plik_lite_v22_TTTEEE.clik' on test data. got -292.286 expected -292.286 (diff -3.86223e-09)\n",
      "----\n",
      "[planck_2018_lensing.clik] `clik` module loaded successfully from /home/mcmeiers/Projects/gdm_cosmology/code/planck/code/plc_3.0/plc-3.1/lib/python/site-packages/clik\n",
      "Checking lensing likelihood '../data/planck_2018/baseline/plc_3.0/lensing/smicadx12_Dec5_ftl_mv2_ndclpp_p_teb_consext8.clik_lensing' on test data. got -4.42102\n",
      "[gdm] Initialized external likelihood.\n"
     ]
    }
   ],
   "source": [
    "from cobaya.model import get_model\n",
    "model = get_model(cobaya_info)"
   ]
  },
  {
   "cell_type": "code",
   "execution_count": 8,
   "metadata": {},
   "outputs": [
    {
     "name": "stdout",
     "output_type": "stream",
     "text": [
      "[output] Output to be read-from/written-into folder '/home/mcmeiers/Projects/gdm_cosmology/workspace/gdm_alpha_5w_2c_fixed_ends', with prefix 'chains'\n",
      "[classy] `classy` module loaded successfully from /home/mcmeiers/anaconda3/envs/py39/lib/python3.9/site-packages\n",
      "[planck_2018_lowl.tt] `clik` module loaded successfully from /home/mcmeiers/Projects/gdm_cosmology/code/planck/code/plc_3.0/plc-3.1/lib/python/site-packages/clik\n",
      "----\n",
      "clik version plc_3.1\n",
      "  gibbs_gauss b13c8fda-1837-41b5-ae2d-78d6b723fcf1\n",
      "Checking likelihood '../data/planck_2018/baseline/plc_3.0/low_l/commander/commander_dx12_v3_2_29.clik' on test data. got -11.6257 expected -11.6257 (diff -1.07424e-09)\n",
      "----\n",
      "[planck_2018_lowl.ee] `clik` module loaded successfully from /home/mcmeiers/Projects/gdm_cosmology/code/planck/code/plc_3.0/plc-3.1/lib/python/site-packages/clik\n",
      "Initializing SimAll\n",
      "----\n",
      "clik version plc_3.1\n",
      "  simall simall_EE_BB_TE\n",
      "Checking likelihood '../data/planck_2018/baseline/plc_3.0/low_l/simall/simall_100x143_offlike5_EE_Aplanck_B.clik' on test data. got -197.99 expected -197.99 (diff -4.1778e-08)\n",
      "----\n",
      "[planck_2018_highl_plik.ttteee_lite] `clik` module loaded successfully from /home/mcmeiers/Projects/gdm_cosmology/code/planck/code/plc_3.0/plc-3.1/lib/python/site-packages/clik\n",
      "[planck_2018_highl_plik.ttteee_lite] *ERROR* An unexpected error occurred in clik (possibly related to multiple simultaneous initialization, or simultaneous initialization of incompatible likelihoods; e.g. polarised vs non-polarised 'lite' likelihoods. See error info below:\n"
     ]
    },
    {
     "ename": "CError",
     "evalue": "clik_init(../src/clik.c:77)::ForwardError\n  clik_lklobject_init(../src/clik_helper.c:235)::ForwardError\n    clik_plik_cmbonly_init(../src/cmbonly/clik_cmbonly.c:48)::Error -100 (plik_cmbonly already initialized)",
     "output_type": "error",
     "traceback": [
      "\u001b[0;31m---------------------------------------------------------------------------\u001b[0m",
      "\u001b[0;31mCError\u001b[0m                                    Traceback (most recent call last)",
      "\u001b[1;32m/home/mcmeiers/Projects/gdm_cosmology/workspace/debug_1+5+2.ipynb Cell 9'\u001b[0m in \u001b[0;36m<cell line: 1>\u001b[0;34m()\u001b[0m\n\u001b[0;32m----> <a href='vscode-notebook-cell:/home/mcmeiers/Projects/gdm_cosmology/workspace/debug_1%2B5%2B2.ipynb#ch0000008?line=0'>1</a>\u001b[0m upd_info, mcmc \u001b[39m=\u001b[39m run(cobaya_info)\n",
      "File \u001b[0;32m~/anaconda3/envs/py39/lib/python3.9/site-packages/cobaya/run.py:145\u001b[0m, in \u001b[0;36mrun\u001b[0;34m(info_or_yaml_or_file, packages_path, output, debug, stop_at_error, resume, force, minimize, no_mpi, test, override)\u001b[0m\n\u001b[1;32m    <a href='file:///home/mcmeiers/anaconda3/envs/py39/lib/python3.9/site-packages/cobaya/run.py?line=141'>142</a>\u001b[0m sampler_class\u001b[39m.\u001b[39mcheck_force_resume(\n\u001b[1;32m    <a href='file:///home/mcmeiers/anaconda3/envs/py39/lib/python3.9/site-packages/cobaya/run.py?line=142'>143</a>\u001b[0m     out, info\u001b[39m=\u001b[39mupdated_info[\u001b[39m\"\u001b[39m\u001b[39msampler\u001b[39m\u001b[39m\"\u001b[39m][sampler_name])\n\u001b[1;32m    <a href='file:///home/mcmeiers/anaconda3/envs/py39/lib/python3.9/site-packages/cobaya/run.py?line=143'>144</a>\u001b[0m \u001b[39m# 4. Initialize the posterior and the sampler\u001b[39;00m\n\u001b[0;32m--> <a href='file:///home/mcmeiers/anaconda3/envs/py39/lib/python3.9/site-packages/cobaya/run.py?line=144'>145</a>\u001b[0m \u001b[39mwith\u001b[39;00m Model(updated_info[\u001b[39m\"\u001b[39;49m\u001b[39mparams\u001b[39;49m\u001b[39m\"\u001b[39;49m], updated_info[\u001b[39m\"\u001b[39;49m\u001b[39mlikelihood\u001b[39;49m\u001b[39m\"\u001b[39;49m],\n\u001b[1;32m    <a href='file:///home/mcmeiers/anaconda3/envs/py39/lib/python3.9/site-packages/cobaya/run.py?line=145'>146</a>\u001b[0m            updated_info\u001b[39m.\u001b[39;49mget(\u001b[39m\"\u001b[39;49m\u001b[39mprior\u001b[39;49m\u001b[39m\"\u001b[39;49m), updated_info\u001b[39m.\u001b[39;49mget(\u001b[39m\"\u001b[39;49m\u001b[39mtheory\u001b[39;49m\u001b[39m\"\u001b[39;49m),\n\u001b[1;32m    <a href='file:///home/mcmeiers/anaconda3/envs/py39/lib/python3.9/site-packages/cobaya/run.py?line=146'>147</a>\u001b[0m            packages_path\u001b[39m=\u001b[39;49minfo\u001b[39m.\u001b[39;49mget(packages_path_input),\n\u001b[1;32m    <a href='file:///home/mcmeiers/anaconda3/envs/py39/lib/python3.9/site-packages/cobaya/run.py?line=147'>148</a>\u001b[0m            timing\u001b[39m=\u001b[39;49mupdated_info\u001b[39m.\u001b[39;49mget(\u001b[39m\"\u001b[39;49m\u001b[39mtiming\u001b[39;49m\u001b[39m\"\u001b[39;49m),\n\u001b[1;32m    <a href='file:///home/mcmeiers/anaconda3/envs/py39/lib/python3.9/site-packages/cobaya/run.py?line=148'>149</a>\u001b[0m            allow_renames\u001b[39m=\u001b[39;49m\u001b[39mFalse\u001b[39;49;00m,\n\u001b[1;32m    <a href='file:///home/mcmeiers/anaconda3/envs/py39/lib/python3.9/site-packages/cobaya/run.py?line=149'>150</a>\u001b[0m            stop_at_error\u001b[39m=\u001b[39;49minfo\u001b[39m.\u001b[39;49mget(\u001b[39m\"\u001b[39;49m\u001b[39mstop_at_error\u001b[39;49m\u001b[39m\"\u001b[39;49m, \u001b[39mFalse\u001b[39;49;00m)) \u001b[39mas\u001b[39;00m model:\n\u001b[1;32m    <a href='file:///home/mcmeiers/anaconda3/envs/py39/lib/python3.9/site-packages/cobaya/run.py?line=150'>151</a>\u001b[0m     \u001b[39m# Re-dump the updated info, now containing parameter routes and version\u001b[39;00m\n\u001b[1;32m    <a href='file:///home/mcmeiers/anaconda3/envs/py39/lib/python3.9/site-packages/cobaya/run.py?line=151'>152</a>\u001b[0m     updated_info \u001b[39m=\u001b[39m recursive_update(updated_info, model\u001b[39m.\u001b[39minfo())\n\u001b[1;32m    <a href='file:///home/mcmeiers/anaconda3/envs/py39/lib/python3.9/site-packages/cobaya/run.py?line=152'>153</a>\u001b[0m     out\u001b[39m.\u001b[39mcheck_and_dump_info(\u001b[39mNone\u001b[39;00m, updated_info, check_compatible\u001b[39m=\u001b[39m\u001b[39mFalse\u001b[39;00m)\n",
      "File \u001b[0;32m~/anaconda3/envs/py39/lib/python3.9/site-packages/cobaya/model.py:237\u001b[0m, in \u001b[0;36mModel.__init__\u001b[0;34m(self, info_params, info_likelihood, info_prior, info_theory, packages_path, timing, allow_renames, stop_at_error, post, skip_unused_theories, dropped_theory_params)\u001b[0m\n\u001b[1;32m    <a href='file:///home/mcmeiers/anaconda3/envs/py39/lib/python3.9/site-packages/cobaya/model.py?line=233'>234</a>\u001b[0m \u001b[39mself\u001b[39m\u001b[39m.\u001b[39mtheory \u001b[39m=\u001b[39m TheoryCollection(info_theory \u001b[39mor\u001b[39;00m {}, packages_path\u001b[39m=\u001b[39mpackages_path,\n\u001b[1;32m    <a href='file:///home/mcmeiers/anaconda3/envs/py39/lib/python3.9/site-packages/cobaya/model.py?line=234'>235</a>\u001b[0m                                timing\u001b[39m=\u001b[39mtiming)\n\u001b[1;32m    <a href='file:///home/mcmeiers/anaconda3/envs/py39/lib/python3.9/site-packages/cobaya/model.py?line=235'>236</a>\u001b[0m info_likelihood \u001b[39m=\u001b[39m \u001b[39mself\u001b[39m\u001b[39m.\u001b[39m_updated_info[\u001b[39m\"\u001b[39m\u001b[39mlikelihood\u001b[39m\u001b[39m\"\u001b[39m]\n\u001b[0;32m--> <a href='file:///home/mcmeiers/anaconda3/envs/py39/lib/python3.9/site-packages/cobaya/model.py?line=236'>237</a>\u001b[0m \u001b[39mself\u001b[39m\u001b[39m.\u001b[39mlikelihood \u001b[39m=\u001b[39m LikelihoodCollection(info_likelihood, theory\u001b[39m=\u001b[39;49m\u001b[39mself\u001b[39;49m\u001b[39m.\u001b[39;49mtheory,\n\u001b[1;32m    <a href='file:///home/mcmeiers/anaconda3/envs/py39/lib/python3.9/site-packages/cobaya/model.py?line=237'>238</a>\u001b[0m                                        packages_path\u001b[39m=\u001b[39;49mpackages_path, timing\u001b[39m=\u001b[39;49mtiming)\n\u001b[1;32m    <a href='file:///home/mcmeiers/anaconda3/envs/py39/lib/python3.9/site-packages/cobaya/model.py?line=238'>239</a>\u001b[0m \u001b[39mif\u001b[39;00m stop_at_error:\n\u001b[1;32m    <a href='file:///home/mcmeiers/anaconda3/envs/py39/lib/python3.9/site-packages/cobaya/model.py?line=239'>240</a>\u001b[0m     \u001b[39mfor\u001b[39;00m component \u001b[39min\u001b[39;00m \u001b[39mself\u001b[39m\u001b[39m.\u001b[39mcomponents:\n",
      "File \u001b[0;32m~/anaconda3/envs/py39/lib/python3.9/site-packages/cobaya/likelihood.py:275\u001b[0m, in \u001b[0;36mLikelihoodCollection.__init__\u001b[0;34m(self, info_likelihood, packages_path, timing, theory)\u001b[0m\n\u001b[1;32m    <a href='file:///home/mcmeiers/anaconda3/envs/py39/lib/python3.9/site-packages/cobaya/likelihood.py?line=269'>270</a>\u001b[0m     \u001b[39massert\u001b[39;00m \u001b[39misinstance\u001b[39m(info, Mapping)\n\u001b[1;32m    <a href='file:///home/mcmeiers/anaconda3/envs/py39/lib/python3.9/site-packages/cobaya/likelihood.py?line=270'>271</a>\u001b[0m     like_class: \u001b[39mtype\u001b[39m \u001b[39m=\u001b[39m get_component_class(\n\u001b[1;32m    <a href='file:///home/mcmeiers/anaconda3/envs/py39/lib/python3.9/site-packages/cobaya/likelihood.py?line=271'>272</a>\u001b[0m         name, kind\u001b[39m=\u001b[39m\u001b[39m\"\u001b[39m\u001b[39mlikelihood\u001b[39m\u001b[39m\"\u001b[39m,\n\u001b[1;32m    <a href='file:///home/mcmeiers/anaconda3/envs/py39/lib/python3.9/site-packages/cobaya/likelihood.py?line=272'>273</a>\u001b[0m         component_path\u001b[39m=\u001b[39minfo\u001b[39m.\u001b[39mget(\u001b[39m\"\u001b[39m\u001b[39mpython_path\u001b[39m\u001b[39m\"\u001b[39m, \u001b[39mNone\u001b[39;00m),\n\u001b[1;32m    <a href='file:///home/mcmeiers/anaconda3/envs/py39/lib/python3.9/site-packages/cobaya/likelihood.py?line=273'>274</a>\u001b[0m         class_name\u001b[39m=\u001b[39minfo\u001b[39m.\u001b[39mget(\u001b[39m\"\u001b[39m\u001b[39mclass\u001b[39m\u001b[39m\"\u001b[39m), logger\u001b[39m=\u001b[39m\u001b[39mself\u001b[39m\u001b[39m.\u001b[39mlog)\n\u001b[0;32m--> <a href='file:///home/mcmeiers/anaconda3/envs/py39/lib/python3.9/site-packages/cobaya/likelihood.py?line=274'>275</a>\u001b[0m     \u001b[39mself\u001b[39m\u001b[39m.\u001b[39madd_instance(name, like_class(info, packages_path\u001b[39m=\u001b[39;49mpackages_path,\n\u001b[1;32m    <a href='file:///home/mcmeiers/anaconda3/envs/py39/lib/python3.9/site-packages/cobaya/likelihood.py?line=275'>276</a>\u001b[0m                                        timing\u001b[39m=\u001b[39;49mtiming, standalone\u001b[39m=\u001b[39;49m\u001b[39mFalse\u001b[39;49;00m,\n\u001b[1;32m    <a href='file:///home/mcmeiers/anaconda3/envs/py39/lib/python3.9/site-packages/cobaya/likelihood.py?line=276'>277</a>\u001b[0m                                        name\u001b[39m=\u001b[39;49mname))\n\u001b[1;32m    <a href='file:///home/mcmeiers/anaconda3/envs/py39/lib/python3.9/site-packages/cobaya/likelihood.py?line=278'>279</a>\u001b[0m \u001b[39mif\u001b[39;00m \u001b[39mnot\u001b[39;00m is_LikelihoodInterface(\u001b[39mself\u001b[39m[name]):\n\u001b[1;32m    <a href='file:///home/mcmeiers/anaconda3/envs/py39/lib/python3.9/site-packages/cobaya/likelihood.py?line=279'>280</a>\u001b[0m     \u001b[39mraise\u001b[39;00m LoggedError(\u001b[39mself\u001b[39m\u001b[39m.\u001b[39mlog, \u001b[39m\"\u001b[39m\u001b[39m'\u001b[39m\u001b[39mLikelihood\u001b[39m\u001b[39m'\u001b[39m\u001b[39m \u001b[39m\u001b[39m%s\u001b[39;00m\u001b[39m is not actually a \u001b[39m\u001b[39m\"\u001b[39m\n\u001b[1;32m    <a href='file:///home/mcmeiers/anaconda3/envs/py39/lib/python3.9/site-packages/cobaya/likelihood.py?line=280'>281</a>\u001b[0m                                 \u001b[39m\"\u001b[39m\u001b[39mlikelihood (no current_logp attribute)\u001b[39m\u001b[39m\"\u001b[39m,\n\u001b[1;32m    <a href='file:///home/mcmeiers/anaconda3/envs/py39/lib/python3.9/site-packages/cobaya/likelihood.py?line=281'>282</a>\u001b[0m                       name)\n",
      "File \u001b[0;32m~/anaconda3/envs/py39/lib/python3.9/site-packages/cobaya/likelihood.py:89\u001b[0m, in \u001b[0;36mLikelihood.__init__\u001b[0;34m(self, info, name, timing, packages_path, initialize, standalone)\u001b[0m\n\u001b[1;32m     <a href='file:///home/mcmeiers/anaconda3/envs/py39/lib/python3.9/site-packages/cobaya/likelihood.py?line=82'>83</a>\u001b[0m \u001b[39mdef\u001b[39;00m \u001b[39m__init__\u001b[39m(\u001b[39mself\u001b[39m, info: LikeDictIn \u001b[39m=\u001b[39m empty_dict,\n\u001b[1;32m     <a href='file:///home/mcmeiers/anaconda3/envs/py39/lib/python3.9/site-packages/cobaya/likelihood.py?line=83'>84</a>\u001b[0m              name: Optional[\u001b[39mstr\u001b[39m] \u001b[39m=\u001b[39m \u001b[39mNone\u001b[39;00m,\n\u001b[1;32m     <a href='file:///home/mcmeiers/anaconda3/envs/py39/lib/python3.9/site-packages/cobaya/likelihood.py?line=84'>85</a>\u001b[0m              timing: Optional[\u001b[39mbool\u001b[39m] \u001b[39m=\u001b[39m \u001b[39mNone\u001b[39;00m,\n\u001b[1;32m     <a href='file:///home/mcmeiers/anaconda3/envs/py39/lib/python3.9/site-packages/cobaya/likelihood.py?line=85'>86</a>\u001b[0m              packages_path: Optional[\u001b[39mstr\u001b[39m] \u001b[39m=\u001b[39m \u001b[39mNone\u001b[39;00m,\n\u001b[1;32m     <a href='file:///home/mcmeiers/anaconda3/envs/py39/lib/python3.9/site-packages/cobaya/likelihood.py?line=86'>87</a>\u001b[0m              initialize\u001b[39m=\u001b[39m\u001b[39mTrue\u001b[39;00m, standalone\u001b[39m=\u001b[39m\u001b[39mTrue\u001b[39;00m):\n\u001b[1;32m     <a href='file:///home/mcmeiers/anaconda3/envs/py39/lib/python3.9/site-packages/cobaya/likelihood.py?line=87'>88</a>\u001b[0m     \u001b[39mself\u001b[39m\u001b[39m.\u001b[39mdelay \u001b[39m=\u001b[39m \u001b[39m0\u001b[39m\n\u001b[0;32m---> <a href='file:///home/mcmeiers/anaconda3/envs/py39/lib/python3.9/site-packages/cobaya/likelihood.py?line=88'>89</a>\u001b[0m     \u001b[39msuper\u001b[39;49m()\u001b[39m.\u001b[39;49m\u001b[39m__init__\u001b[39;49m(info, name\u001b[39m=\u001b[39;49mname, timing\u001b[39m=\u001b[39;49mtiming,\n\u001b[1;32m     <a href='file:///home/mcmeiers/anaconda3/envs/py39/lib/python3.9/site-packages/cobaya/likelihood.py?line=89'>90</a>\u001b[0m                      packages_path\u001b[39m=\u001b[39;49mpackages_path, initialize\u001b[39m=\u001b[39;49minitialize,\n\u001b[1;32m     <a href='file:///home/mcmeiers/anaconda3/envs/py39/lib/python3.9/site-packages/cobaya/likelihood.py?line=90'>91</a>\u001b[0m                      standalone\u001b[39m=\u001b[39;49mstandalone)\n",
      "File \u001b[0;32m~/anaconda3/envs/py39/lib/python3.9/site-packages/cobaya/theory.py:65\u001b[0m, in \u001b[0;36mTheory.__init__\u001b[0;34m(self, info, name, timing, packages_path, initialize, standalone)\u001b[0m\n\u001b[1;32m     <a href='file:///home/mcmeiers/anaconda3/envs/py39/lib/python3.9/site-packages/cobaya/theory.py?line=58'>59</a>\u001b[0m \u001b[39mdef\u001b[39;00m \u001b[39m__init__\u001b[39m(\u001b[39mself\u001b[39m, info: TheoryDictIn \u001b[39m=\u001b[39m empty_dict,\n\u001b[1;32m     <a href='file:///home/mcmeiers/anaconda3/envs/py39/lib/python3.9/site-packages/cobaya/theory.py?line=59'>60</a>\u001b[0m              name: Optional[\u001b[39mstr\u001b[39m] \u001b[39m=\u001b[39m \u001b[39mNone\u001b[39;00m, timing: Optional[\u001b[39mbool\u001b[39m] \u001b[39m=\u001b[39m \u001b[39mNone\u001b[39;00m,\n\u001b[1;32m     <a href='file:///home/mcmeiers/anaconda3/envs/py39/lib/python3.9/site-packages/cobaya/theory.py?line=60'>61</a>\u001b[0m              packages_path: Optional[\u001b[39mstr\u001b[39m] \u001b[39m=\u001b[39m \u001b[39mNone\u001b[39;00m,\n\u001b[1;32m     <a href='file:///home/mcmeiers/anaconda3/envs/py39/lib/python3.9/site-packages/cobaya/theory.py?line=61'>62</a>\u001b[0m              initialize\u001b[39m=\u001b[39m\u001b[39mTrue\u001b[39;00m, standalone\u001b[39m=\u001b[39m\u001b[39mTrue\u001b[39;00m):\n\u001b[1;32m     <a href='file:///home/mcmeiers/anaconda3/envs/py39/lib/python3.9/site-packages/cobaya/theory.py?line=63'>64</a>\u001b[0m     \u001b[39mself\u001b[39m\u001b[39m.\u001b[39m_measured_speed \u001b[39m=\u001b[39m \u001b[39mNone\u001b[39;00m\n\u001b[0;32m---> <a href='file:///home/mcmeiers/anaconda3/envs/py39/lib/python3.9/site-packages/cobaya/theory.py?line=64'>65</a>\u001b[0m     \u001b[39msuper\u001b[39;49m()\u001b[39m.\u001b[39;49m\u001b[39m__init__\u001b[39;49m(info, name\u001b[39m=\u001b[39;49mname, timing\u001b[39m=\u001b[39;49mtiming,\n\u001b[1;32m     <a href='file:///home/mcmeiers/anaconda3/envs/py39/lib/python3.9/site-packages/cobaya/theory.py?line=65'>66</a>\u001b[0m                      packages_path\u001b[39m=\u001b[39;49mpackages_path, initialize\u001b[39m=\u001b[39;49minitialize,\n\u001b[1;32m     <a href='file:///home/mcmeiers/anaconda3/envs/py39/lib/python3.9/site-packages/cobaya/theory.py?line=66'>67</a>\u001b[0m                      standalone\u001b[39m=\u001b[39;49mstandalone)\n\u001b[1;32m     <a href='file:///home/mcmeiers/anaconda3/envs/py39/lib/python3.9/site-packages/cobaya/theory.py?line=68'>69</a>\u001b[0m     \u001b[39m# set to Provider instance before calculations\u001b[39;00m\n\u001b[1;32m     <a href='file:///home/mcmeiers/anaconda3/envs/py39/lib/python3.9/site-packages/cobaya/theory.py?line=69'>70</a>\u001b[0m     \u001b[39mself\u001b[39m\u001b[39m.\u001b[39mprovider: Any \u001b[39m=\u001b[39m \u001b[39mNone\u001b[39;00m\n",
      "File \u001b[0;32m~/anaconda3/envs/py39/lib/python3.9/site-packages/cobaya/component.py:332\u001b[0m, in \u001b[0;36mCobayaComponent.__init__\u001b[0;34m(self, info, name, timing, packages_path, initialize, standalone)\u001b[0m\n\u001b[1;32m    <a href='file:///home/mcmeiers/anaconda3/envs/py39/lib/python3.9/site-packages/cobaya/component.py?line=329'>330</a>\u001b[0m \u001b[39mtry\u001b[39;00m:\n\u001b[1;32m    <a href='file:///home/mcmeiers/anaconda3/envs/py39/lib/python3.9/site-packages/cobaya/component.py?line=330'>331</a>\u001b[0m     \u001b[39mif\u001b[39;00m initialize:\n\u001b[0;32m--> <a href='file:///home/mcmeiers/anaconda3/envs/py39/lib/python3.9/site-packages/cobaya/component.py?line=331'>332</a>\u001b[0m         \u001b[39mself\u001b[39;49m\u001b[39m.\u001b[39;49minitialize()\n\u001b[1;32m    <a href='file:///home/mcmeiers/anaconda3/envs/py39/lib/python3.9/site-packages/cobaya/component.py?line=332'>333</a>\u001b[0m \u001b[39mexcept\u001b[39;00m \u001b[39mAttributeError\u001b[39;00m \u001b[39mas\u001b[39;00m e:\n\u001b[1;32m    <a href='file:///home/mcmeiers/anaconda3/envs/py39/lib/python3.9/site-packages/cobaya/component.py?line=333'>334</a>\u001b[0m     \u001b[39mif\u001b[39;00m \u001b[39m'\u001b[39m\u001b[39m_params\u001b[39m\u001b[39m'\u001b[39m \u001b[39min\u001b[39;00m \u001b[39mstr\u001b[39m(e):\n",
      "File \u001b[0;32m~/anaconda3/envs/py39/lib/python3.9/site-packages/cobaya/likelihoods/base_classes/planck_clik.py:72\u001b[0m, in \u001b[0;36mPlanckClik.initialize\u001b[0;34m(self)\u001b[0m\n\u001b[1;32m     <a href='file:///home/mcmeiers/anaconda3/envs/py39/lib/python3.9/site-packages/cobaya/likelihoods/base_classes/planck_clik.py?line=68'>69</a>\u001b[0m \u001b[39mself\u001b[39m\u001b[39m.\u001b[39mlensing \u001b[39m=\u001b[39m clik\u001b[39m.\u001b[39mtry_lensing(\u001b[39mself\u001b[39m\u001b[39m.\u001b[39mclik_file)\n\u001b[1;32m     <a href='file:///home/mcmeiers/anaconda3/envs/py39/lib/python3.9/site-packages/cobaya/likelihoods/base_classes/planck_clik.py?line=69'>70</a>\u001b[0m \u001b[39mtry\u001b[39;00m:\n\u001b[1;32m     <a href='file:///home/mcmeiers/anaconda3/envs/py39/lib/python3.9/site-packages/cobaya/likelihoods/base_classes/planck_clik.py?line=70'>71</a>\u001b[0m     \u001b[39mself\u001b[39m\u001b[39m.\u001b[39mclik \u001b[39m=\u001b[39m clik\u001b[39m.\u001b[39mclik_lensing(\u001b[39mself\u001b[39m\u001b[39m.\u001b[39mclik_file) \u001b[39mif\u001b[39;00m \u001b[39mself\u001b[39m\u001b[39m.\u001b[39mlensing \\\n\u001b[0;32m---> <a href='file:///home/mcmeiers/anaconda3/envs/py39/lib/python3.9/site-packages/cobaya/likelihoods/base_classes/planck_clik.py?line=71'>72</a>\u001b[0m         \u001b[39melse\u001b[39;00m clik\u001b[39m.\u001b[39;49mclik(\u001b[39mself\u001b[39;49m\u001b[39m.\u001b[39;49mclik_file)\n\u001b[1;32m     <a href='file:///home/mcmeiers/anaconda3/envs/py39/lib/python3.9/site-packages/cobaya/likelihoods/base_classes/planck_clik.py?line=72'>73</a>\u001b[0m \u001b[39mexcept\u001b[39;00m clik\u001b[39m.\u001b[39mlkl\u001b[39m.\u001b[39mCError:\n\u001b[1;32m     <a href='file:///home/mcmeiers/anaconda3/envs/py39/lib/python3.9/site-packages/cobaya/likelihoods/base_classes/planck_clik.py?line=73'>74</a>\u001b[0m     \u001b[39m# Is it that the file was not found?\u001b[39;00m\n\u001b[1;32m     <a href='file:///home/mcmeiers/anaconda3/envs/py39/lib/python3.9/site-packages/cobaya/likelihoods/base_classes/planck_clik.py?line=74'>75</a>\u001b[0m     \u001b[39mif\u001b[39;00m \u001b[39mnot\u001b[39;00m os\u001b[39m.\u001b[39mpath\u001b[39m.\u001b[39mexists(\u001b[39mself\u001b[39m\u001b[39m.\u001b[39mclik_file):\n",
      "File \u001b[0;32mlkl.pyx:73\u001b[0m, in \u001b[0;36mclik.lkl.clik.__init__\u001b[0;34m()\u001b[0m\n",
      "\u001b[0;31mCError\u001b[0m: clik_init(../src/clik.c:77)::ForwardError\n  clik_lklobject_init(../src/clik_helper.c:235)::ForwardError\n    clik_plik_cmbonly_init(../src/cmbonly/clik_cmbonly.c:48)::Error -100 (plik_cmbonly already initialized)"
     ]
    }
   ],
   "source": [
    "upd_info, mcmc = run(cobaya_info)"
   ]
  },
  {
   "cell_type": "code",
   "execution_count": null,
   "metadata": {},
   "outputs": [
    {
     "data": {
      "text/plain": [
       "0.06586054424131565"
      ]
     },
     "execution_count": 8,
     "metadata": {},
     "output_type": "execute_result"
    }
   ],
   "source": [
    "from classy import Class\n",
    "\n",
    "bad_in = gdm_model.fixed_settings|{'output':\"mPk\",'A_s': 2.1130577961081382e-09, 'n_s': 0.9688121598431281, '100*theta_s': 1.042027519819202, 'omega_b': 0.022350917183541954, 'omega_cdm': 0.11983305955937719, 'z_reio': 8.056572538611144, 'gdm_alpha': 0.05944613357551692, 'gdm_w_vals': '-1.0,0.29195379412124445,-0.087584465639726,0.294193827530018,-0.09145501866764416,0.32421587825205,1.0', 'gdm_c_eff2': 0.01811824380355831, 'gdm_c_vis2': 0.03961205463083206, 'gdm_z_alpha': 3000.0}\n",
    "cosmo = Class()\n",
    "cosmo.set(bad_in)\n",
    "cosmo.compute()\n",
    "bg = cosmo.get_background()\n",
    "max(bg['(.)rho_gdm']/bg['H [1/Mpc]']**2)\n",
    "\n",
    "\n"
   ]
  },
  {
   "cell_type": "code",
   "execution_count": null,
   "metadata": {},
   "outputs": [
    {
     "data": {
      "text/plain": [
       "{'z': array([1.00000000e+14, 9.89308584e+13, 9.78731474e+13, ...,\n",
       "        2.17307062e-02, 1.08069579e-02, 0.00000000e+00]),\n",
       " 'proper time [Gyr]': array([7.55951851e-26, 7.72379221e-26, 7.89163568e-26, ...,\n",
       "        1.27633742e+01, 1.28995757e+01, 1.30363223e+01]),\n",
       " 'conf. time [Mpc]': array([4.63478500e-09, 4.68571670e-09, 4.73664841e-09, ...,\n",
       "        1.37100208e+04, 1.37524592e+04, 1.37946119e+04]),\n",
       " 'H [1/Mpc]': array([2.15725629e+22, 2.11137463e+22, 2.06646880e+22, ...,\n",
       "        2.57924623e-04, 2.56884101e-04, 2.55872569e-04]),\n",
       " 'comov. dist.': array([13794.61186938, 13794.61186938, 13794.61186938, ...,\n",
       "           84.59107424,    42.15268161,     0.        ]),\n",
       " 'ang.diam.dist.': array([1.37946119e-10, 1.39436897e-10, 1.40943785e-10, ...,\n",
       "        8.27919468e+01, 4.17020097e+01, 0.00000000e+00]),\n",
       " 'lum. dist.': array([1.37946119e+18, 1.36471279e+18, 1.35012208e+18, ...,\n",
       "        8.64292980e+01, 4.26082239e+01, 0.00000000e+00]),\n",
       " 'comov.snd.hrz.': array([2.67631746e-09, 2.70524032e-09, 2.73447573e-09, ...,\n",
       "        1.20154592e+03, 1.20249392e+03, 1.20343050e+03]),\n",
       " '(.)rho_g': array([2.75156054e+44, 2.63576193e+44, 2.52483667e+44, ...,\n",
       "        2.99864362e-12, 2.87244659e-12, 2.75156054e-12]),\n",
       " '(.)rho_b': array([2.48687493e+33, 2.40796004e+33, 2.33154932e+33, ...,\n",
       "        2.65254817e-09, 2.56837605e-09, 2.48687493e-09]),\n",
       " '(.)rho_cdm': array([1.33332260e+34, 1.29101288e+34, 1.25004574e+34, ...,\n",
       "        1.42214729e-08, 1.37701893e-08, 1.33332260e-08]),\n",
       " '(.)rho_lambda': array([4.96460075e-08, 4.96460075e-08, 4.96460075e-08, ...,\n",
       "        4.96460075e-08, 4.96460075e-08, 4.96460075e-08]),\n",
       " '(.)rho_ur': array([1.90219418e+44, 1.82214090e+44, 1.74545665e+44, ...,\n",
       "        2.07300634e-12, 1.98576448e-12, 1.90219418e-12]),\n",
       " '(.)rho_crit': array([4.65375471e+44, 4.45790283e+44, 4.27029332e+44, ...,\n",
       "        6.65251110e-08, 6.59894411e-08, 6.54707717e-08]),\n",
       " '(.)rho_tot': array([4.65375471e+44, 4.45790283e+44, 4.27029332e+44, ...,\n",
       "        6.65251110e-08, 6.59894411e-08, 6.54707717e-08]),\n",
       " '(.)p_tot': array([ 1.55125157e+44,  1.48596761e+44,  1.42343111e+44, ...,\n",
       "        -4.96443062e-08, -4.96443780e-08, -4.96444468e-08]),\n",
       " '(.)p_tot_prime': array([-1.33857889e+53, -1.26853617e+53, -1.20215853e+53, ...,\n",
       "        -1.72293538e-15, -1.66123610e-15, -1.60190639e-15]),\n",
       " 'gr.fac. D': array([6.55183420e-06, 6.69268527e-06, 6.83353634e-06, ...,\n",
       "        9.90160133e-01, 9.95101776e-01, 1.00000000e+00]),\n",
       " 'gr.fac. f': array([2.        , 1.95790895, 1.91755304, ..., 0.46632251, 0.45997311,\n",
       "        0.45365578]),\n",
       " '(.)rho_gdm': array([3.06322091e+23, 3.06318956e+23, 3.06309549e+23, ...,\n",
       "        1.07436479e-14, 1.00732344e-14, 9.44427098e-15]),\n",
       " 'w_gdm': array([-1.        , -0.99936514, -0.99873029, ...,  0.99747623,\n",
       "         0.99873812,  1.        ])}"
      ]
     },
     "execution_count": 9,
     "metadata": {},
     "output_type": "execute_result"
    }
   ],
   "source": [
    "bg"
   ]
  },
  {
   "cell_type": "code",
   "execution_count": null,
   "metadata": {},
   "outputs": [
    {
     "name": "stdout",
     "output_type": "stream",
     "text": [
      "[input] *ERROR* theory 'classy' does not recognize some options: 'provide'. Check the documentation for 'theory'.\n"
     ]
    },
    {
     "ename": "LoggedError",
     "evalue": "theory 'classy' does not recognize some options: 'provide'. Check the documentation for 'theory'.",
     "output_type": "error",
     "traceback": [
      "\u001b[0;31m---------------------------------------------------------------------------\u001b[0m",
      "\u001b[0;31mLoggedError\u001b[0m                               Traceback (most recent call last)",
      "\u001b[1;32m/home/mcmeiers/Projects/gdm-cosmology/workspace/debug_1+5+2.ipynb Cell 11'\u001b[0m in \u001b[0;36m<cell line: 2>\u001b[0;34m()\u001b[0m\n\u001b[1;32m      <a href='vscode-notebook-cell:/home/mcmeiers/Projects/gdm-cosmology/workspace/debug_1%2B5%2B2.ipynb#ch0000010?line=0'>1</a>\u001b[0m \u001b[39mfrom\u001b[39;00m \u001b[39mcobaya\u001b[39;00m\u001b[39m.\u001b[39;00m\u001b[39mmodel\u001b[39;00m \u001b[39mimport\u001b[39;00m get_model\n\u001b[0;32m----> <a href='vscode-notebook-cell:/home/mcmeiers/Projects/gdm-cosmology/workspace/debug_1%2B5%2B2.ipynb#ch0000010?line=1'>2</a>\u001b[0m model \u001b[39m=\u001b[39m get_model(cobaya_info)\n",
      "File \u001b[0;32m~/anaconda3/envs/py39/lib/python3.9/site-packages/cobaya/model.py:1177\u001b[0m, in \u001b[0;36mget_model\u001b[0;34m(info_or_yaml_or_file, debug, stop_at_error, packages_path, override)\u001b[0m\n\u001b[1;32m   <a href='file:///home/mcmeiers/anaconda3/envs/py39/lib/python3.9/site-packages/cobaya/model.py?line=1174'>1175</a>\u001b[0m             ignored_info\u001b[39m.\u001b[39mappend(k)\n\u001b[1;32m   <a href='file:///home/mcmeiers/anaconda3/envs/py39/lib/python3.9/site-packages/cobaya/model.py?line=1175'>1176</a>\u001b[0m \u001b[39m# Create the updated input information, including defaults for each component.\u001b[39;00m\n\u001b[0;32m-> <a href='file:///home/mcmeiers/anaconda3/envs/py39/lib/python3.9/site-packages/cobaya/model.py?line=1176'>1177</a>\u001b[0m updated_info \u001b[39m=\u001b[39m update_info(info)\n\u001b[1;32m   <a href='file:///home/mcmeiers/anaconda3/envs/py39/lib/python3.9/site-packages/cobaya/model.py?line=1177'>1178</a>\u001b[0m \u001b[39mif\u001b[39;00m ignored_info:\n\u001b[1;32m   <a href='file:///home/mcmeiers/anaconda3/envs/py39/lib/python3.9/site-packages/cobaya/model.py?line=1178'>1179</a>\u001b[0m     get_logger(\u001b[39m__name__\u001b[39m)\u001b[39m.\u001b[39mwarning(\u001b[39m\"\u001b[39m\u001b[39mIgnored blocks/options: \u001b[39m\u001b[39m%r\u001b[39;00m\u001b[39m\"\u001b[39m, ignored_info)\n",
      "File \u001b[0;32m~/anaconda3/envs/py39/lib/python3.9/site-packages/cobaya/input.py:303\u001b[0m, in \u001b[0;36mupdate_info\u001b[0;34m(info, add_aggr_chi2)\u001b[0m\n\u001b[1;32m    <a href='file:///home/mcmeiers/anaconda3/envs/py39/lib/python3.9/site-packages/cobaya/input.py?line=297'>298</a>\u001b[0m         alternatives[option] \u001b[39m=\u001b[39m fuzzy_match(option, available, n\u001b[39m=\u001b[39m\u001b[39m3\u001b[39m)\n\u001b[1;32m    <a href='file:///home/mcmeiers/anaconda3/envs/py39/lib/python3.9/site-packages/cobaya/input.py?line=298'>299</a>\u001b[0m     did_you_mean \u001b[39m=\u001b[39m \u001b[39m\"\u001b[39m\u001b[39m, \u001b[39m\u001b[39m\"\u001b[39m\u001b[39m.\u001b[39mjoin(\n\u001b[1;32m    <a href='file:///home/mcmeiers/anaconda3/envs/py39/lib/python3.9/site-packages/cobaya/input.py?line=299'>300</a>\u001b[0m         [(\u001b[39m\"\u001b[39m\u001b[39m'\u001b[39m\u001b[39m%s\u001b[39;00m\u001b[39m'\u001b[39m\u001b[39m (did you mean \u001b[39m\u001b[39m%s\u001b[39;00m\u001b[39m?)\u001b[39m\u001b[39m\"\u001b[39m \u001b[39m%\u001b[39m (o, \u001b[39m\"\u001b[39m\u001b[39m|\u001b[39m\u001b[39m\"\u001b[39m\u001b[39m.\u001b[39mjoin([\u001b[39m\"\u001b[39m\u001b[39m'\u001b[39m\u001b[39m%s\u001b[39;00m\u001b[39m'\u001b[39m\u001b[39m\"\u001b[39m \u001b[39m%\u001b[39m _ \u001b[39mfor\u001b[39;00m _ \u001b[39min\u001b[39;00m a]))\n\u001b[1;32m    <a href='file:///home/mcmeiers/anaconda3/envs/py39/lib/python3.9/site-packages/cobaya/input.py?line=300'>301</a>\u001b[0m           \u001b[39mif\u001b[39;00m a \u001b[39melse\u001b[39;00m \u001b[39m\"\u001b[39m\u001b[39m'\u001b[39m\u001b[39m%s\u001b[39;00m\u001b[39m'\u001b[39m\u001b[39m\"\u001b[39m \u001b[39m%\u001b[39m o)\n\u001b[1;32m    <a href='file:///home/mcmeiers/anaconda3/envs/py39/lib/python3.9/site-packages/cobaya/input.py?line=301'>302</a>\u001b[0m          \u001b[39mfor\u001b[39;00m o, a \u001b[39min\u001b[39;00m alternatives\u001b[39m.\u001b[39mitems()])\n\u001b[0;32m--> <a href='file:///home/mcmeiers/anaconda3/envs/py39/lib/python3.9/site-packages/cobaya/input.py?line=302'>303</a>\u001b[0m     \u001b[39mraise\u001b[39;00m LoggedError(\n\u001b[1;32m    <a href='file:///home/mcmeiers/anaconda3/envs/py39/lib/python3.9/site-packages/cobaya/input.py?line=303'>304</a>\u001b[0m         log, \u001b[39m\"\u001b[39m\u001b[39m%s\u001b[39;00m\u001b[39m \u001b[39m\u001b[39m'\u001b[39m\u001b[39m%s\u001b[39;00m\u001b[39m'\u001b[39m\u001b[39m does not recognize some options: \u001b[39m\u001b[39m%s\u001b[39;00m\u001b[39m. \u001b[39m\u001b[39m\"\u001b[39m\n\u001b[1;32m    <a href='file:///home/mcmeiers/anaconda3/envs/py39/lib/python3.9/site-packages/cobaya/input.py?line=304'>305</a>\u001b[0m              \u001b[39m\"\u001b[39m\u001b[39mCheck the documentation for \u001b[39m\u001b[39m'\u001b[39m\u001b[39m%s\u001b[39;00m\u001b[39m'\u001b[39m\u001b[39m.\u001b[39m\u001b[39m\"\u001b[39m,\n\u001b[1;32m    <a href='file:///home/mcmeiers/anaconda3/envs/py39/lib/python3.9/site-packages/cobaya/input.py?line=305'>306</a>\u001b[0m         block, name, did_you_mean, block)\n\u001b[1;32m    <a href='file:///home/mcmeiers/anaconda3/envs/py39/lib/python3.9/site-packages/cobaya/input.py?line=306'>307</a>\u001b[0m updated[name]\u001b[39m.\u001b[39mupdate(input_block[name])\n\u001b[1;32m    <a href='file:///home/mcmeiers/anaconda3/envs/py39/lib/python3.9/site-packages/cobaya/input.py?line=307'>308</a>\u001b[0m \u001b[39m# save params and priors of class to combine later\u001b[39;00m\n",
      "\u001b[0;31mLoggedError\u001b[0m: theory 'classy' does not recognize some options: 'provide'. Check the documentation for 'theory'."
     ]
    }
   ],
   "source": [
    "from cobaya.model import get_model\n",
    "model = get_model(cobaya_info)"
   ]
  },
  {
   "cell_type": "code",
   "execution_count": null,
   "metadata": {},
   "outputs": [],
   "source": [
    "from classy import Class\n",
    "\n",
    "test_in = {'gdm_alpha': 0.05944613357551692,\n",
    "           'gdm_c_eff2' : 0.01811824380355831,\n",
    "           'gdm_c_vis2' : 0.03961205463083206,\n",
    "           'gdm_log10a_vals' : '-14,-4.5,-4.0,-3.5,-3.0,-2.5,0',\n",
    "           'gdm_w_vals' : '-1.0,0.29195379412124445,-0.087584465639726,0.294193827530018,-0.09145501866764416,0.32421587825205,1.0',\n",
    "           'gdm_z_alpha' : 3000,\n",
    "           'gdm_interpolation_order' :1,\n",
    "           'output': 'mPk',\n",
    "           'A_s': 2.1130577961081382e-09,\n",
    "           'n_s': 0.9688121598431281,\n",
    "           '100*theta_s': 1.042027519819202,\n",
    "           'omega_b': 0.022350917183541954,\n",
    "           'omega_cdm': 0.11983305955937719,\n",
    "           'z_reio': 8.056572538611144,\n",
    "           }\n",
    "\n",
    "cosmo = Class()\n",
    "cosmo.set(test_in)\n",
    "#cosmo.set(bad_in)\n",
    "cosmo.compute()\n",
    "cosmo.struct_cleanup()\n",
    "cosmo.empty()"
   ]
  },
  {
   "cell_type": "code",
   "execution_count": null,
   "metadata": {},
   "outputs": [
    {
     "data": {
      "text/plain": [
       "{'gdm_log10a_vals': '-14,-4.5,-4.0,-3.5,-3.0,-2.5,0',\n",
       " 'gdm_interpolation_order': 1}"
      ]
     },
     "execution_count": 14,
     "metadata": {},
     "output_type": "execute_result"
    }
   ],
   "source": [
    "gdm_model.fixed_settings"
   ]
  },
  {
   "cell_type": "code",
   "execution_count": null,
   "metadata": {},
   "outputs": [
    {
     "data": {
      "text/plain": [
       "array(4)"
      ]
     },
     "execution_count": 17,
     "metadata": {},
     "output_type": "execute_result"
    }
   ],
   "source": [
    "test = np.array(1)\n",
    "np.argmax(np.arange(5), out = test)"
   ]
  },
  {
   "cell_type": "code",
   "execution_count": null,
   "metadata": {},
   "outputs": [
    {
     "data": {
      "text/plain": [
       "array(4)"
      ]
     },
     "execution_count": 18,
     "metadata": {},
     "output_type": "execute_result"
    }
   ],
   "source": [
    "test"
   ]
  },
  {
   "cell_type": "code",
   "execution_count": null,
   "metadata": {},
   "outputs": [],
   "source": []
  }
 ],
 "metadata": {
  "interpreter": {
   "hash": "ca29fabe194f5f3e47781bef64c25e5a971e9daa65f4a7e8668b93c4b35c497d"
  },
  "kernelspec": {
   "display_name": "Python 3.9.6 ('py39')",
   "language": "python",
   "name": "python3"
  },
  "language_info": {
   "codemirror_mode": {
    "name": "ipython",
    "version": 3
   },
   "file_extension": ".py",
   "mimetype": "text/x-python",
   "name": "python",
   "nbconvert_exporter": "python",
   "pygments_lexer": "ipython3",
   "version": "3.9.6"
  },
  "orig_nbformat": 4
 },
 "nbformat": 4,
 "nbformat_minor": 2
}
