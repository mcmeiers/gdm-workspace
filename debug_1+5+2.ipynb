{
 "cells": [
  {
   "cell_type": "code",
   "execution_count": 1,
   "metadata": {},
   "outputs": [],
   "source": [
    "from pathlib import Path\n",
    "\n",
    "import src.gdmtools as gdmtools\n",
    "\n",
    "from cobaya.run import run\n",
    "from cobaya.log import LoggedError\n",
    "\n",
    "from classy import Class"
   ]
  },
  {
   "cell_type": "code",
   "execution_count": 2,
   "metadata": {},
   "outputs": [],
   "source": [
    "PROJECT_NAME = \"gdm_alpha_5w_2c_fixed_ends\"\n",
    "\n",
    "\n",
    "PROJECT_DIR = (Path.cwd() / PROJECT_NAME )  # Path(\"/opt/project/\") / PROJECT_NAME / \"\"\n",
    "\n",
    "CHAIN_DIR = PROJECT_DIR / \"chains/\"\n",
    "(CHAIN_DIR / \"\").mkdir(exist_ok=True, parents=True)\n",
    "\n",
    "#COBAYA_PACKAGES_PATH = Path(\"/software/cobaya_packages\")\n",
    "CLASS_PATH = \"/home/mmeiers/Projects/gdm_cosmology/code/my-class\" #COBAYA_PACKAGES_PATH / \"code/class_public-designer/\"\n",
    "\n"
   ]
  },
  {
   "cell_type": "code",
   "execution_count": 3,
   "metadata": {},
   "outputs": [],
   "source": [
    "gdm_model = gdmtools.yaml.load(PROJECT_DIR / f\"{PROJECT_NAME}+model.yaml\")"
   ]
  },
  {
   "cell_type": "code",
   "execution_count": 4,
   "metadata": {},
   "outputs": [],
   "source": [
    "\n",
    "lcdm_params = {\n",
    "    \"logA\": {\n",
    "        \"prior\": {\"min\": 1.61, \"max\": 3.91},\n",
    "        \"ref\": {\"dist\": \"norm\", \"loc\": 3.05, \"scale\": 0.001},\n",
    "        \"proposal\": 0.001,\n",
    "        \"latex\": \"\\\\log(10^{10} A_\\\\mathrm{s})\",\n",
    "        \"drop\": True,\n",
    "    },\n",
    "    \"A_s\": {\"value\": \"lambda logA: 1e-10*np.exp(logA)\", \"latex\": \"A_\\\\mathrm{s}\"},\n",
    "    \"n_s\": {\n",
    "        \"prior\": {\"min\": 0.8, \"max\": 1.2},\n",
    "        \"ref\": {\"dist\": \"norm\", \"loc\": 0.965, \"scale\": 0.004},\n",
    "        \"proposal\": 0.002,\n",
    "        \"latex\": \"n_\\\\mathrm{s}\",\n",
    "    },\n",
    "    \"theta_s_1e2\": {\n",
    "        \"prior\": {\"min\": 0.5, \"max\": 10},\n",
    "        \"ref\": {\"dist\": \"norm\", \"loc\": 1.0416, \"scale\": 0.0004},\n",
    "        \"proposal\": 0.0002,\n",
    "        \"latex\": \"100\\\\theta_\\\\mathrm{s}\",\n",
    "        \"drop\": True,\n",
    "    },\n",
    "    \"100*theta_s\": {\"value\": \"lambda theta_s_1e2: theta_s_1e2\", \"derived\": False},\n",
    "    \"H0\": {\"min\": 60, \"max\": 80, \"latex\": \"H_0\"},\n",
    "    \"sigma8\": {\"latex\": \"\\sigma_8\"},\n",
    "    \"omega_b\": {\n",
    "        \"prior\": {\"min\": 0.005, \"max\": 0.1},\n",
    "        \"ref\": {\"dist\": \"norm\", \"loc\": 0.0224, \"scale\": 0.0001},\n",
    "        \"proposal\": 0.0001,\n",
    "        \"latex\": \"\\\\Omega_\\\\mathrm{b} h^2\",\n",
    "    },\n",
    "    \"omega_cdm\": {\n",
    "        \"prior\": {\"min\": 0.001, \"max\": 0.99},\n",
    "        \"ref\": {\"dist\": \"norm\", \"loc\": 0.12, \"scale\": 0.001},\n",
    "        \"proposal\": 0.0005,\n",
    "        \"latex\": \"\\\\Omega_\\\\mathrm{c} h^2\",\n",
    "    },\n",
    "    \"z_reio\": {\n",
    "        \"prior\": {\"min\": 6, \"max\": 9},\n",
    "        \"ref\": {\"dist\": \"norm\", \"loc\": 7.5, \"scale\": 0.75},\n",
    "        \"proposal\": 0.4,\n",
    "    },\n",
    "    \"tau_reio\": {\"latex\": \"\\\\tau_\\\\mathrm{reio}\"},\n",
    "    \"Omega_gdm_max\": None,\n",
    "    \"z_gdm_max\": None\n",
    "}\n"
   ]
  },
  {
   "cell_type": "code",
   "execution_count": 5,
   "metadata": {},
   "outputs": [],
   "source": [
    "def gdm_likeihood(_self):\n",
    "    bg =_self.provider.get_CLASS_background()\n",
    "    Omega_gdm = bg['(.)rho_gdm']/bg['H [1/Mpc]']**2\n",
    "    Omega_gdm_max_idx = np.argmax(Omega_gdm)\n",
    "    return (0, {'Omega_gdm_max': Omega_gdm[Omega_gdm_max_idx], 'z_gdm_max': bg['z'][Omega_gdm_max_idx]})"
   ]
  },
  {
   "cell_type": "markdown",
   "metadata": {},
   "source": []
  },
  {
   "cell_type": "code",
   "execution_count": 6,
   "metadata": {},
   "outputs": [],
   "source": [
    "cobaya_info = dict(\n",
    "    theory={\n",
    "        \"classy\": {\n",
    "            \"extra_args\": {\n",
    "                **gdm_model.fixed_settings,\n",
    "                \"non_linear\": \"hmcode\",\n",
    "                \"l_max_scalars\": 5000,\n",
    "            },\n",
    "            #\"path\": str(CLASS_PATH),\n",
    "            #'provide': {'get_CLASS_background': None},\n",
    "        }\n",
    "    },\n",
    "    params={**lcdm_params, **gdm_model.params},\n",
    "    likelihood={\n",
    "        \"planck_2018_lowl.TT\": None,\n",
    "        \"planck_2018_lowl.EE\": None,\n",
    "        \"planck_2018_highl_plik.TTTEEE_lite\": None,\n",
    "        \"planck_2018_lensing.clik\": None,\n",
    "        'gdm': {'external': gdm_likeihood,\n",
    "                'output_params': ['Omega_gdm_max','z_gdm_max'],\n",
    "                'requires': {'CLASS_background': None}},\n",
    "    },\n",
    "    sampler=dict(\n",
    "        mcmc={\n",
    "            \"drag\": True,\n",
    "            \"oversample_power\": 0.4,\n",
    "            \"proposal_scale\": 1.9,\n",
    "            \"covmat\": \"auto\",\n",
    "            \"Rminus1_stop\": 0.01,\n",
    "            \"Rminus1_cl_stop\": 0.025,\n",
    "        }\n",
    "    ),\n",
    "    output=str(CHAIN_DIR),\n",
    "    resume= True,\n",
    "    #packages_path=str(COBAYA_PACKAGES_PATH),\n",
    ")"
   ]
  },
  {
   "cell_type": "code",
   "execution_count": 7,
   "metadata": {},
   "outputs": [
    {
     "name": "stdout",
     "output_type": "stream",
     "text": [
      "[output] Output to be read-from/written-into folder '/home/mmeiers/Projects/gdm_cosmology/gdm-workspace/gdm_alpha_5w_2c_fixed_ends', with prefix 'chains'\n",
      "[output] Found existing info files with the requested output prefix: '/home/mmeiers/Projects/gdm_cosmology/gdm-workspace/gdm_alpha_5w_2c_fixed_ends/chains'\n",
      "[output] Let's try to resume/load.\n",
      "[output] Found an old sample. Resuming.\n",
      "[classy] `classy` module loaded successfully from /home/mmeiers/anaconda3/envs/py39/lib/python3.9/site-packages/classy-3.2.0-py3.9-linux-x86_64.egg\n",
      "/home/mmeiers/Projects/gdm_cosmology/code/planck/code/plc_3.0/plc-3.1 3.1\n",
      "[planck_2018_lowl.tt] `clik` module loaded successfully from /home/mmeiers/Projects/gdm_cosmology/code/planck/code/plc_3.0/plc-3.1/lib/python/site-packages/clik\n",
      "----\n",
      "clik version plc_3.1\n",
      "  gibbs_gauss b13c8fda-1837-41b5-ae2d-78d6b723fcf1\n",
      "Checking likelihood '/home/mmeiers/Projects/gdm_cosmology/data/planck_2018/baseline/plc_3.0/low_l/commander/commander_dx12_v3_2_29.clik' on test data. got -11.6257 expected -11.6257 (diff -1.07424e-09)\n",
      "----\n",
      "/home/mmeiers/Projects/gdm_cosmology/code/planck/code/plc_3.0/plc-3.1 3.1\n",
      "[planck_2018_lowl.ee] `clik` module loaded successfully from /home/mmeiers/Projects/gdm_cosmology/code/planck/code/plc_3.0/plc-3.1/lib/python/site-packages/clik\n",
      "Initializing SimAll\n",
      "----\n",
      "clik version plc_3.1\n",
      "  simall simall_EE_BB_TE\n",
      "Checking likelihood '/home/mmeiers/Projects/gdm_cosmology/data/planck_2018/baseline/plc_3.0/low_l/simall/simall_100x143_offlike5_EE_Aplanck_B.clik' on test data. got -197.99 expected -197.99 (diff -4.1778e-08)\n",
      "----\n",
      "/home/mmeiers/Projects/gdm_cosmology/code/planck/code/plc_3.0/plc-3.1 3.1\n",
      "[planck_2018_highl_plik.ttteee_lite] `clik` module loaded successfully from /home/mmeiers/Projects/gdm_cosmology/code/planck/code/plc_3.0/plc-3.1/lib/python/site-packages/clik\n",
      " Initializing Planck likelihood, version Plik_v22_cmbonly_like                                                                                                                                                                                                                                                                                                                                                                                                                                                                                               \n",
      "----\n",
      "clik version plc_3.1\n",
      "  plik_cmbonly\n",
      "Checking likelihood '/home/mmeiers/Projects/gdm_cosmology/data/planck_2018/baseline/plc_3.0/hi_l/plik_lite/plik_lite_v22_TTTEEE.clik' on test data. got -292.286 expected -292.286 (diff -3.86223e-09)\n",
      "----\n",
      "/home/mmeiers/Projects/gdm_cosmology/code/planck/code/plc_3.0/plc-3.1 3.1\n",
      "[planck_2018_lensing.clik] `clik` module loaded successfully from /home/mmeiers/Projects/gdm_cosmology/code/planck/code/plc_3.0/plc-3.1/lib/python/site-packages/clik\n",
      "Checking lensing likelihood '/home/mmeiers/Projects/gdm_cosmology/data/planck_2018/baseline/plc_3.0/lensing/smicadx12_Dec5_ftl_mv2_ndclpp_p_teb_consext8.clik_lensing' on test data. got -4.42102\n",
      "[gdm] Initialized external likelihood.\n",
      "[mcmc] Resuming from previous sample!\n",
      "[samplecollection] Loaded 10 sample points from '/home/mmeiers/Projects/gdm_cosmology/gdm-workspace/gdm_alpha_5w_2c_fixed_ends/chains.1.txt'\n",
      "[mcmc] *WARNING* Dragging disabled: speed ratio and fast-to-slow ratio not large enough.\n",
      "[mcmc] Oversampling with factors:\n",
      "[mcmc] *  1 : ['logA', 'n_s', 'theta_s_1e2', 'omega_b', 'omega_cdm', 'z_reio', 'gdm_alpha', 'w_0', 'w_1', 'w_2', 'w_3', 'w_4', 'gdm_c_eff2', 'gdm_c_vis2']\n",
      "[mcmc] * 20 : ['A_planck']\n",
      "[mcmc] Covariance matrix from previous sample.\n",
      "[mcmc] Initial point: logA:3.02265, n_s:0.9608212, theta_s_1e2:1.041292, omega_b:0.0221969, omega_cdm:0.1197513, z_reio:6.704752, gdm_alpha:0.06824048, w_0:0.47786, w_1:0.360893, w_2:-0.4573483, w_3:0.8145725, w_4:0.4179036, gdm_c_eff2:0.1563944, gdm_c_vis2:0.2389296, A_planck:1.005804\n",
      "[mcmc] Sampling!\n",
      "0.0923266 \n",
      "[mcmc] Progress @ 2022-05-30 15:50:53 : 1 steps taken, and 10 accepted.\n",
      "0.0918641 \n",
      "0.0917616 \n",
      "0.0179556 \n",
      "0.0926518 \n"
     ]
    }
   ],
   "source": [
    "upd_info, mcmc = run(cobaya_info)"
   ]
  },
  {
   "cell_type": "code",
   "execution_count": null,
   "metadata": {},
   "outputs": [
    {
     "data": {
      "text/plain": [
       "0.06586054424131565"
      ]
     },
     "execution_count": 8,
     "metadata": {},
     "output_type": "execute_result"
    }
   ],
   "source": [
    "from classy import Class\n",
    "\n",
    "bad_in = gdm_model.fixed_settings|{'output':\"mPk\",'A_s': 2.1130577961081382e-09, 'n_s': 0.9688121598431281, '100*theta_s': 1.042027519819202, 'omega_b': 0.022350917183541954, 'omega_cdm': 0.11983305955937719, 'z_reio': 8.056572538611144, 'gdm_alpha': 0.05944613357551692, 'gdm_w_vals': '-1.0,0.29195379412124445,-0.087584465639726,0.294193827530018,-0.09145501866764416,0.32421587825205,1.0', 'gdm_c_eff2': 0.01811824380355831, 'gdm_c_vis2': 0.03961205463083206, 'gdm_z_alpha': 3000.0}\n",
    "cosmo = Class()\n",
    "cosmo.set(bad_in)\n",
    "cosmo.compute()\n",
    "bg = cosmo.get_background()\n",
    "max(bg['(.)rho_gdm']/bg['H [1/Mpc]']**2)\n",
    "\n",
    "\n"
   ]
  },
  {
   "cell_type": "code",
   "execution_count": null,
   "metadata": {},
   "outputs": [
    {
     "data": {
      "text/plain": [
       "{'z': array([1.00000000e+14, 9.89308584e+13, 9.78731474e+13, ...,\n",
       "        2.17307062e-02, 1.08069579e-02, 0.00000000e+00]),\n",
       " 'proper time [Gyr]': array([7.55951851e-26, 7.72379221e-26, 7.89163568e-26, ...,\n",
       "        1.27633742e+01, 1.28995757e+01, 1.30363223e+01]),\n",
       " 'conf. time [Mpc]': array([4.63478500e-09, 4.68571670e-09, 4.73664841e-09, ...,\n",
       "        1.37100208e+04, 1.37524592e+04, 1.37946119e+04]),\n",
       " 'H [1/Mpc]': array([2.15725629e+22, 2.11137463e+22, 2.06646880e+22, ...,\n",
       "        2.57924623e-04, 2.56884101e-04, 2.55872569e-04]),\n",
       " 'comov. dist.': array([13794.61186938, 13794.61186938, 13794.61186938, ...,\n",
       "           84.59107424,    42.15268161,     0.        ]),\n",
       " 'ang.diam.dist.': array([1.37946119e-10, 1.39436897e-10, 1.40943785e-10, ...,\n",
       "        8.27919468e+01, 4.17020097e+01, 0.00000000e+00]),\n",
       " 'lum. dist.': array([1.37946119e+18, 1.36471279e+18, 1.35012208e+18, ...,\n",
       "        8.64292980e+01, 4.26082239e+01, 0.00000000e+00]),\n",
       " 'comov.snd.hrz.': array([2.67631746e-09, 2.70524032e-09, 2.73447573e-09, ...,\n",
       "        1.20154592e+03, 1.20249392e+03, 1.20343050e+03]),\n",
       " '(.)rho_g': array([2.75156054e+44, 2.63576193e+44, 2.52483667e+44, ...,\n",
       "        2.99864362e-12, 2.87244659e-12, 2.75156054e-12]),\n",
       " '(.)rho_b': array([2.48687493e+33, 2.40796004e+33, 2.33154932e+33, ...,\n",
       "        2.65254817e-09, 2.56837605e-09, 2.48687493e-09]),\n",
       " '(.)rho_cdm': array([1.33332260e+34, 1.29101288e+34, 1.25004574e+34, ...,\n",
       "        1.42214729e-08, 1.37701893e-08, 1.33332260e-08]),\n",
       " '(.)rho_lambda': array([4.96460075e-08, 4.96460075e-08, 4.96460075e-08, ...,\n",
       "        4.96460075e-08, 4.96460075e-08, 4.96460075e-08]),\n",
       " '(.)rho_ur': array([1.90219418e+44, 1.82214090e+44, 1.74545665e+44, ...,\n",
       "        2.07300634e-12, 1.98576448e-12, 1.90219418e-12]),\n",
       " '(.)rho_crit': array([4.65375471e+44, 4.45790283e+44, 4.27029332e+44, ...,\n",
       "        6.65251110e-08, 6.59894411e-08, 6.54707717e-08]),\n",
       " '(.)rho_tot': array([4.65375471e+44, 4.45790283e+44, 4.27029332e+44, ...,\n",
       "        6.65251110e-08, 6.59894411e-08, 6.54707717e-08]),\n",
       " '(.)p_tot': array([ 1.55125157e+44,  1.48596761e+44,  1.42343111e+44, ...,\n",
       "        -4.96443062e-08, -4.96443780e-08, -4.96444468e-08]),\n",
       " '(.)p_tot_prime': array([-1.33857889e+53, -1.26853617e+53, -1.20215853e+53, ...,\n",
       "        -1.72293538e-15, -1.66123610e-15, -1.60190639e-15]),\n",
       " 'gr.fac. D': array([6.55183420e-06, 6.69268527e-06, 6.83353634e-06, ...,\n",
       "        9.90160133e-01, 9.95101776e-01, 1.00000000e+00]),\n",
       " 'gr.fac. f': array([2.        , 1.95790895, 1.91755304, ..., 0.46632251, 0.45997311,\n",
       "        0.45365578]),\n",
       " '(.)rho_gdm': array([3.06322091e+23, 3.06318956e+23, 3.06309549e+23, ...,\n",
       "        1.07436479e-14, 1.00732344e-14, 9.44427098e-15]),\n",
       " 'w_gdm': array([-1.        , -0.99936514, -0.99873029, ...,  0.99747623,\n",
       "         0.99873812,  1.        ])}"
      ]
     },
     "execution_count": 9,
     "metadata": {},
     "output_type": "execute_result"
    }
   ],
   "source": [
    "bg"
   ]
  },
  {
   "cell_type": "code",
   "execution_count": null,
   "metadata": {},
   "outputs": [
    {
     "ename": "NameError",
     "evalue": "name 'get_model' is not defined",
     "output_type": "error",
     "traceback": [
      "\u001b[0;31m---------------------------------------------------------------------------\u001b[0m",
      "\u001b[0;31mNameError\u001b[0m                                 Traceback (most recent call last)",
      "\u001b[1;32m/home/mmeiers/Projects/gdm_cosmology/gdm-workspace/debug_1+5+2.ipynb Cell 11'\u001b[0m in \u001b[0;36m<cell line: 1>\u001b[0;34m()\u001b[0m\n\u001b[0;32m----> <a href='vscode-notebook-cell:/home/mmeiers/Projects/gdm_cosmology/gdm-workspace/debug_1%2B5%2B2.ipynb#ch0000008?line=0'>1</a>\u001b[0m model \u001b[39m=\u001b[39m get_model(cobaya_info)\n",
      "\u001b[0;31mNameError\u001b[0m: name 'get_model' is not defined"
     ]
    }
   ],
   "source": [
    "model = get_model(cobaya_info)"
   ]
  },
  {
   "cell_type": "code",
   "execution_count": null,
   "metadata": {},
   "outputs": [],
   "source": [
    "from classy import Class\n",
    "\n",
    "test_in = {'gdm_alpha': 0.05944613357551692,\n",
    "           'gdm_c_eff2' : 0.01811824380355831,\n",
    "           'gdm_c_vis2' : 0.03961205463083206,\n",
    "           'gdm_log10a_vals' : '-14,-4.5,-4.0,-3.5,-3.0,-2.5,0',\n",
    "           'gdm_w_vals' : '-1.0,0.29195379412124445,-0.087584465639726,0.294193827530018,-0.09145501866764416,0.32421587825205,1.0',\n",
    "           'gdm_z_alpha' : 3000,\n",
    "           'gdm_interpolation_order' :1,\n",
    "           'output': 'mPk',\n",
    "           'A_s': 2.1130577961081382e-09,\n",
    "           'n_s': 0.9688121598431281,\n",
    "           '100*theta_s': 1.042027519819202,\n",
    "           'omega_b': 0.022350917183541954,\n",
    "           'omega_cdm': 0.11983305955937719,\n",
    "           'z_reio': 8.056572538611144,\n",
    "           }\n",
    "\n",
    "cosmo = Class()\n",
    "cosmo.set(test_in)\n",
    "#cosmo.set(bad_in)\n",
    "cosmo.compute()\n",
    "cosmo.struct_cleanup()\n",
    "cosmo.empty()"
   ]
  },
  {
   "cell_type": "code",
   "execution_count": null,
   "metadata": {},
   "outputs": [
    {
     "data": {
      "text/plain": [
       "{'gdm_log10a_vals': '-14,-4.5,-4.0,-3.5,-3.0,-2.5,0',\n",
       " 'gdm_interpolation_order': 1}"
      ]
     },
     "execution_count": 14,
     "metadata": {},
     "output_type": "execute_result"
    }
   ],
   "source": [
    "gdm_model.fixed_settings"
   ]
  },
  {
   "cell_type": "code",
   "execution_count": null,
   "metadata": {},
   "outputs": [
    {
     "data": {
      "text/plain": [
       "array(4)"
      ]
     },
     "execution_count": 17,
     "metadata": {},
     "output_type": "execute_result"
    }
   ],
   "source": [
    "test = np.array(1)\n",
    "np.argmax(np.arange(5), out = test)"
   ]
  },
  {
   "cell_type": "code",
   "execution_count": null,
   "metadata": {},
   "outputs": [
    {
     "data": {
      "text/plain": [
       "array(4)"
      ]
     },
     "execution_count": 18,
     "metadata": {},
     "output_type": "execute_result"
    }
   ],
   "source": [
    "test"
   ]
  },
  {
   "cell_type": "code",
   "execution_count": null,
   "metadata": {},
   "outputs": [],
   "source": []
  }
 ],
 "metadata": {
  "interpreter": {
   "hash": "2dbd9e98c3a08b5149fc316c95f0fdb873ef8ef424db3bbcf4169abde8464907"
  },
  "kernelspec": {
   "display_name": "Python 3.9.0 ('py39')",
   "language": "python",
   "name": "python3"
  },
  "language_info": {
   "codemirror_mode": {
    "name": "ipython",
    "version": 3
   },
   "file_extension": ".py",
   "mimetype": "text/x-python",
   "name": "python",
   "nbconvert_exporter": "python",
   "pygments_lexer": "ipython3",
   "version": "3.9.0"
  },
  "orig_nbformat": 4
 },
 "nbformat": 4,
 "nbformat_minor": 2
}
