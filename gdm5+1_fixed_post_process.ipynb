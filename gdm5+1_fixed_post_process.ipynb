{
 "cells": [
  {
   "cell_type": "code",
   "execution_count": 14,
   "id": "a0ed09b4-8ced-44d7-b972-242996a78e52",
   "metadata": {},
   "outputs": [],
   "source": [
    "from getdist.mcsamples import loadMCSamples\n",
    "import numpy as np\n",
    "import classy\n",
    "from scipy.interpolate import UnivariateSpline"
   ]
  },
  {
   "cell_type": "code",
   "execution_count": 15,
   "id": "589ed9dc-efe7-4bf0-853a-f87fb90aa056",
   "metadata": {},
   "outputs": [],
   "source": [
    "GDM_DATA_PATH = '/global/cscratch1/sd/mcmeiers/gdm6/gdm_6_fixed_ends/gdm_6_fixed_ends' \n",
    "PLA_DATA_PATH = '/global/cscratch1/sd/mcmeiers/pla_data/base/plikHM_TTTEEE_lowl_lowE_lensing/base_plikHM_TTTEEE_lowl_lowE_lensing'\n",
    "gdm_samples = loadMCSamples(GDM_DATA_PATH, settings={'ignore_rows':0.5})\n",
    "pla_samples = loadMCSamples(PLA_DATA_PATH, settings={'ignore_rows':0.3})"
   ]
  },
  {
   "cell_type": "code",
   "execution_count": 16,
   "id": "98216269-b307-4eb5-9dc4-9c8f0e67437d",
   "metadata": {},
   "outputs": [],
   "source": [
    "pla_best_fit_sample = pla_samples.getParamSampleDict(np.argmin(pla_samples.loglikes))\n",
    "gdm_best_fit_sample = gdm_samples.getParamSampleDict(np.argmin(gdm_samples.loglikes))"
   ]
  },
  {
   "cell_type": "code",
   "execution_count": 17,
   "id": "b5285df7-c9bf-4d2e-b009-6462938a9543",
   "metadata": {},
   "outputs": [],
   "source": [
    "n_H_samples = 16\n",
    "n_omega_gdm_samples = 11\n",
    "\n",
    "delta_H_frac_z_samples = 1 / np.logspace(-5, 0, n_H_samples) - 1\n",
    "omega_gdm_z_samples = 1 / np.logspace(-4, -3, n_omega_gdm_samples) - 1"
   ]
  },
  {
   "cell_type": "code",
   "execution_count": 18,
   "id": "7a788b6d-3a52-41cf-bd1a-ae09bc5727eb",
   "metadata": {},
   "outputs": [],
   "source": [
    "pla_best_fit_classy_input = {\n",
    "    \"100*theta_s\": pla_best_fit_sample[\"theta\"],\n",
    "    \"omega_cdm\": pla_best_fit_sample[\"omegach2\"],\n",
    "    \"omega_b\": pla_best_fit_sample[\"omegabh2\"],\n",
    "    \"z_reio\": pla_best_fit_sample[\"zrei\"],\n",
    "    \"ln10^{10}A_s\": pla_best_fit_sample[\"logA\"],\n",
    "    \"n_s\": pla_best_fit_sample[\"ns\"],\n",
    "    \"output\": \"tCl,pCl,lCl\",\n",
    "    \"lensing\": \"y\",\n",
    "}"
   ]
  },
  {
   "cell_type": "code",
   "execution_count": 19,
   "id": "e9b33270-8d7e-45bf-bd54-5bbb21c2a763",
   "metadata": {},
   "outputs": [],
   "source": [
    "\n",
    "cosmo = classy.Class()\n",
    "cosmo.set(pla_best_fit_classy_input)\n",
    "cosmo.compute([\"background\"])\n",
    "\n",
    "pla_best_fit_H_samples = UnivariateSpline(\n",
    "    np.flip(cosmo.get_background()[\"z\"]),\n",
    "    np.flip(cosmo.get_background()[\"H [1/Mpc]\"]),\n",
    "    s=0,\n",
    ")(delta_H_frac_z_samples)\n",
    "\n",
    "cosmo.struct_cleanup()\n",
    "cosmo.empty()"
   ]
  },
  {
   "cell_type": "code",
   "execution_count": 20,
   "id": "ed91326f-e9ef-4e1e-8c71-4b49a1bf4589",
   "metadata": {},
   "outputs": [],
   "source": [
    "\n",
    "def classy_input_from_sample(params):\n",
    "    return {\n",
    "        \"100*theta_s\": params[\"theta_s_1e2\"],\n",
    "        \"omega_cdm\": params[\"omega_cdm\"],\n",
    "        \"omega_b\": params[\"omega_b\"],\n",
    "        \"z_reio\": params[\"z_reio\"],\n",
    "        \"ln10^{10}A_s\": params[\"logA\"],\n",
    "        \"n_s\": params[\"n_s\"],\n",
    "        \"gdm_w_vals\": \"-1,\"\n",
    "        + \",\".join(map(str, (params[f\"w_{widx}\"] for widx in range(5))))\n",
    "        + \",1\",\n",
    "        \"gdm_alpha\": params[\"gdm_alpha\"],\n",
    "        \"gdm_log10a_vals\": \"-14.0,-4.5,-4.0,-3.5,-3.0,-2.5,0.0\",\n",
    "        \"gdm_z_alpha\": 3000,\n",
    "        \"gdm_interpolation_order\": 1,\n",
    "        \"gdm_c_eff2\": 1,\n",
    "        \"gdm_c_vis2\": 0,\n",
    "        \"non_linear\": \"hmcode\",\n",
    "        \"l_max_scalars\": 5000,\n",
    "        \"output\": \"tCl,pCl,lCl\",\n",
    "        \"lensing\": \"y\",\n",
    "    }\n",
    "\n",
    "\n",
    "def get_delta_H_frac_and_omega_gdm_of_sample(sample_dict):\n",
    "    classy_input = classy_input_from_sample(sample_dict)\n",
    "    cosmo.set(classy_input)\n",
    "    cosmo.compute([\"background\"])\n",
    "    H_samples = UnivariateSpline(\n",
    "        np.flip(cosmo.get_background()[\"z\"]),\n",
    "        np.flip(cosmo.get_background()[\"H [1/Mpc]\"]),\n",
    "        s=0,\n",
    "    )(delta_H_frac_z_samples)\n",
    "    Omega_gdm_samples = UnivariateSpline(\n",
    "        np.flip(cosmo.get_background()[\"z\"]),\n",
    "        np.flip(\n",
    "            cosmo.get_background()[\"(.)rho_gdm\"] / cosmo.get_background()[\"(.)rho_tot\"]\n",
    "        ),\n",
    "        s=0,\n",
    "    )(omega_gdm_z_samples)\n",
    "    cosmo.struct_cleanup()\n",
    "    cosmo.empty()\n",
    "    return np.concatenate(\n",
    "        (\n",
    "            (H_samples - pla_best_fit_H_samples) / pla_best_fit_H_samples,\n",
    "            Omega_gdm_samples,\n",
    "        )\n",
    "    )\n",
    "\n"
   ]
  },
  {
   "cell_type": "code",
   "execution_count": null,
   "id": "469fc661-8f1e-4def-a501-a63486ab9e08",
   "metadata": {},
   "outputs": [],
   "source": [
    "derived_sample = np.zeros((gdm_samples.numrows, n_H_samples + n_omega_gdm_samples))\n",
    "\n",
    "for idx in range(gdm_samples.numrows):\n",
    "    derived_sample[idx, :] = get_delta_H_frac_and_omega_gdm_of_sample(\n",
    "        gdm_samples.getParamSampleDict(idx)\n",
    "    )"
   ]
  },
  {
   "cell_type": "code",
   "execution_count": null,
   "id": "9592074b-3bec-4726-80c1-a8c56529202d",
   "metadata": {},
   "outputs": [],
   "source": [
    "for idx in range(n_H_samples):\n",
    "    gdm_samples.addDerived(\n",
    "        derived_sample[:, idx],\n",
    "        f\"deltaH_{delta_H_frac_z_samples[idx]:.1e}\",\n",
    "        f\"$\\deltaH({delta_H_frac_z_samples[idx]:.1e})$\",\n",
    "    )"
   ]
  },
  {
   "cell_type": "code",
   "execution_count": null,
   "id": "3e6a49dc-a64c-4c28-979d-bc98bd4ae1e2",
   "metadata": {},
   "outputs": [],
   "source": [
    "for idx in range(n_omega_gdm_samples):\n",
    "    gdm_samples.addDerived(\n",
    "        derived_sample[:, n_H_samples + idx],\n",
    "        f\"Omega_gdm({omega_gdm_z_samples[idx]:.1e})\",\n",
    "        \"$\\Omega_\\{gdm\\}$\" + f\"({omega_gdm_z_samples[idx]:.1e})\",\n",
    "    )"
   ]
  },
  {
   "cell_type": "code",
   "execution_count": null,
   "id": "f468b030-f91a-4468-ad0b-8025e7271aba",
   "metadata": {},
   "outputs": [],
   "source": [
    "gdm_samples.saveAsText('/global/cscratch1/sd/mcmeiers/gdm6/gdm_6_fixed_ends/gdm_6_fixed_post_process')"
   ]
  },
  {
   "cell_type": "code",
   "execution_count": 23,
   "id": "d5e33a92-26e0-4ca6-b717-a4165cc184e3",
   "metadata": {},
   "outputs": [
    {
     "name": "stdout",
     "output_type": "stream",
     "text": [
      "[NbConvertApp] Converting notebook gdm5+1_fixed_post_process.ipynb to script\n",
      "[NbConvertApp] Writing 4050 bytes to gdm5+1_fixed_post_process.py\n"
     ]
    }
   ],
   "source": [
    "!jupyter nbconvert --to script gdm5+1_fixed_post_process.ipynb"
   ]
  },
  {
   "cell_type": "code",
   "execution_count": null,
   "id": "a1ff59cb-c177-4933-8031-64e0c1089e2c",
   "metadata": {},
   "outputs": [],
   "source": []
  }
 ],
 "metadata": {
  "kernelspec": {
   "display_name": "gdm-test-kernel",
   "language": "python",
   "name": "gdm-kernel"
  },
  "language_info": {
   "codemirror_mode": {
    "name": "ipython",
    "version": 3
   },
   "file_extension": ".py",
   "mimetype": "text/x-python",
   "name": "python",
   "nbconvert_exporter": "python",
   "pygments_lexer": "ipython3",
   "version": "3.9.5"
  }
 },
 "nbformat": 4,
 "nbformat_minor": 5
}
