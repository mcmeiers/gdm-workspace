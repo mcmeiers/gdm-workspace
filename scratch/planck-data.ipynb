{
 "cells": [
  {
   "cell_type": "code",
   "execution_count": 49,
   "metadata": {},
   "outputs": [],
   "source": [
    "import numpy as np\n",
    "import pandas as pd\n",
    "import matplotlib.pyplot as plt\n",
    "import xarray as xr\n",
    "\n",
    "from pathlib import Path"
   ]
  },
  {
   "cell_type": "code",
   "execution_count": 39,
   "metadata": {},
   "outputs": [],
   "source": [
    "CWD = Path.cwd()\n",
    "DATA_DIR = CWD/\"data/\"\n",
    "\n",
    "\n",
    "spectra_modes = ['tt',\"te\",\"ee\"]\n",
    "\n",
    "# The data file columns give Dℓ = ℓ(ℓ+1)Cℓ / 2π in units of μK2, and the lower and upper 68% uncertainties. \n",
    "planck_data = {}\n",
    "for mode in spectra_modes:\n",
    "    data = pd.read_csv(DATA_DIR/\"planck\"/ f\"COM_PowerSpect_CMB-{mode.upper()}-full_R3.01.txt\", delim_whitespace=True, escapechar='#')\n",
    "    planck_data[mode] = data['Dl']\n",
    "    planck_data[r\"$+\\sigma_{Dl\"+f\"{mode}$\"] = data['+dDl']\n",
    "    planck_data[r\"$-\\sigma_{Dl\"+f\"{mode}$\"] = data['-dDl']\n",
    "\n"
   ]
  },
  {
   "cell_type": "code",
   "execution_count": 40,
   "metadata": {},
   "outputs": [],
   "source": [
    "cls_of_mdl\n",
    "ell_min=2\n",
    "ell_max=2508\n",
    "modes=(\"tt\", \"te\", \"ee\")\n",
    "fig=None\n",
    "\n",
    "if fig is None:\n",
    "    fig, axs = plt.subplots(len(modes), sharex=True, figsize=(14, 8))\n",
    "    fig.subplots_adjust(hspace=0)\n",
    "else:\n",
    "    axs = fig.gca()\n",
    "\n",
    "if len(modes) == 1:\n",
    "    axs = [axs]\n",
    "\n",
    "assert len(modes) == len(axs)\n",
    "assert ell_min < ell_max\n",
    "\n",
    "labels = []\n",
    "for mdl, cls in cls_of_mdl.items():\n",
    "    ell_mask = (cls[\"ell\"] >= ell_min) & (cls[\"ell\"] <= ell_max)\n",
    "    ells = cls[\"ell\"][ell_mask]\n",
    "    labels.append(mdl)\n",
    "    for mode, ax in zip(modes, axs):\n",
    "        ax.plot(ells, cls[mode][ell_mask], label=mdl)\n",
    "        ax.set_ylabel(\n",
    "            r\"$\\ell(\\ell+1)/(2\\pi)\\,C^{\" + str(mode) + \"}_\\ell\\;(\\mu \\mathrm{K}^2)$\"\n",
    "        )\n",
    "\n",
    "plt.xlabel(r\"$\\ell$\")\n",
    "fig.legend(labels, loc=\"right\")\n",
    "\n",
    "if len(modes) == 1:\n",
    "    axs = axs[0]\n",
    "\n",
    "return fig"
   ]
  },
  {
   "cell_type": "code",
   "execution_count": 57,
   "metadata": {},
   "outputs": [
    {
     "data": {
      "text/html": [
       "<div>\n",
       "<style scoped>\n",
       "    .dataframe tbody tr th:only-of-type {\n",
       "        vertical-align: middle;\n",
       "    }\n",
       "\n",
       "    .dataframe tbody tr th {\n",
       "        vertical-align: top;\n",
       "    }\n",
       "\n",
       "    .dataframe thead th {\n",
       "        text-align: right;\n",
       "    }\n",
       "</style>\n",
       "<table border=\"1\" class=\"dataframe\">\n",
       "  <thead>\n",
       "    <tr style=\"text-align: right;\">\n",
       "      <th></th>\n",
       "      <th>l</th>\n",
       "      <th>Dl</th>\n",
       "      <th>-dDl</th>\n",
       "      <th>+dDl</th>\n",
       "    </tr>\n",
       "  </thead>\n",
       "  <tbody>\n",
       "    <tr>\n",
       "      <th>0</th>\n",
       "      <td>2.0</td>\n",
       "      <td>225.895000</td>\n",
       "      <td>132.369000</td>\n",
       "      <td>533.062000</td>\n",
       "    </tr>\n",
       "    <tr>\n",
       "      <th>1</th>\n",
       "      <td>3.0</td>\n",
       "      <td>936.920000</td>\n",
       "      <td>450.471000</td>\n",
       "      <td>1212.308000</td>\n",
       "    </tr>\n",
       "    <tr>\n",
       "      <th>2</th>\n",
       "      <td>4.0</td>\n",
       "      <td>692.238000</td>\n",
       "      <td>294.111000</td>\n",
       "      <td>666.469000</td>\n",
       "    </tr>\n",
       "    <tr>\n",
       "      <th>3</th>\n",
       "      <td>5.0</td>\n",
       "      <td>1501.705000</td>\n",
       "      <td>574.432000</td>\n",
       "      <td>1155.804000</td>\n",
       "    </tr>\n",
       "    <tr>\n",
       "      <th>4</th>\n",
       "      <td>6.0</td>\n",
       "      <td>557.611000</td>\n",
       "      <td>201.242000</td>\n",
       "      <td>375.763000</td>\n",
       "    </tr>\n",
       "    <tr>\n",
       "      <th>...</th>\n",
       "      <td>...</td>\n",
       "      <td>...</td>\n",
       "      <td>...</td>\n",
       "      <td>...</td>\n",
       "    </tr>\n",
       "    <tr>\n",
       "      <th>2502</th>\n",
       "      <td>2504.0</td>\n",
       "      <td>212.915616</td>\n",
       "      <td>110.537143</td>\n",
       "      <td>110.537143</td>\n",
       "    </tr>\n",
       "    <tr>\n",
       "      <th>2503</th>\n",
       "      <td>2505.0</td>\n",
       "      <td>54.752355</td>\n",
       "      <td>110.824874</td>\n",
       "      <td>110.824874</td>\n",
       "    </tr>\n",
       "    <tr>\n",
       "      <th>2504</th>\n",
       "      <td>2506.0</td>\n",
       "      <td>-149.315007</td>\n",
       "      <td>111.110198</td>\n",
       "      <td>111.110198</td>\n",
       "    </tr>\n",
       "    <tr>\n",
       "      <th>2505</th>\n",
       "      <td>2507.0</td>\n",
       "      <td>-71.474213</td>\n",
       "      <td>111.427400</td>\n",
       "      <td>111.427400</td>\n",
       "    </tr>\n",
       "    <tr>\n",
       "      <th>2506</th>\n",
       "      <td>2508.0</td>\n",
       "      <td>51.632731</td>\n",
       "      <td>111.716422</td>\n",
       "      <td>111.716422</td>\n",
       "    </tr>\n",
       "  </tbody>\n",
       "</table>\n",
       "<p>2507 rows × 4 columns</p>\n",
       "</div>"
      ],
      "text/plain": [
       "           l           Dl        -dDl         +dDl\n",
       "0        2.0   225.895000  132.369000   533.062000\n",
       "1        3.0   936.920000  450.471000  1212.308000\n",
       "2        4.0   692.238000  294.111000   666.469000\n",
       "3        5.0  1501.705000  574.432000  1155.804000\n",
       "4        6.0   557.611000  201.242000   375.763000\n",
       "...      ...          ...         ...          ...\n",
       "2502  2504.0   212.915616  110.537143   110.537143\n",
       "2503  2505.0    54.752355  110.824874   110.824874\n",
       "2504  2506.0  -149.315007  111.110198   111.110198\n",
       "2505  2507.0   -71.474213  111.427400   111.427400\n",
       "2506  2508.0    51.632731  111.716422   111.716422\n",
       "\n",
       "[2507 rows x 4 columns]"
      ]
     },
     "execution_count": 57,
     "metadata": {},
     "output_type": "execute_result"
    }
   ],
   "source": [
    "pd.read_csv(Planck_data_path[0], delim_whitespace=True, escapechar='#')"
   ]
  },
  {
   "cell_type": "code",
   "execution_count": 46,
   "metadata": {},
   "outputs": [],
   "source": [
    "data =pd.read_csv(DATA_DIR/\"planck\"/ f\"COM_PowerSpect_CMB-{'tt'.upper()}-full_R3.01.txt\", delim_whitespace=True, escapechar='#')"
   ]
  },
  {
   "cell_type": "code",
   "execution_count": 47,
   "metadata": {},
   "outputs": [
    {
     "data": {
      "text/plain": [
       "0        225.895000\n",
       "1        936.920000\n",
       "2        692.238000\n",
       "3       1501.705000\n",
       "4        557.611000\n",
       "           ...     \n",
       "2502     212.915616\n",
       "2503      54.752355\n",
       "2504    -149.315007\n",
       "2505     -71.474213\n",
       "2506      51.632731\n",
       "Name: Dl, Length: 2507, dtype: float64"
      ]
     },
     "execution_count": 47,
     "metadata": {},
     "output_type": "execute_result"
    }
   ],
   "source": [
    "data['Dl']"
   ]
  },
  {
   "cell_type": "code",
   "execution_count": 52,
   "metadata": {},
   "outputs": [
    {
     "ename": "KeyError",
     "evalue": "'l'",
     "output_type": "error",
     "traceback": [
      "\u001b[0;31m---------------------------------------------------------------------------\u001b[0m",
      "\u001b[0;31mKeyError\u001b[0m                                  Traceback (most recent call last)",
      "File \u001b[0;32m~/anaconda3/envs/py39/lib/python3.9/site-packages/pandas/core/indexes/base.py:3621\u001b[0m, in \u001b[0;36mIndex.get_loc\u001b[0;34m(self, key, method, tolerance)\u001b[0m\n\u001b[1;32m   3620\u001b[0m \u001b[39mtry\u001b[39;00m:\n\u001b[0;32m-> 3621\u001b[0m     \u001b[39mreturn\u001b[39;00m \u001b[39mself\u001b[39;49m\u001b[39m.\u001b[39;49m_engine\u001b[39m.\u001b[39;49mget_loc(casted_key)\n\u001b[1;32m   3622\u001b[0m \u001b[39mexcept\u001b[39;00m \u001b[39mKeyError\u001b[39;00m \u001b[39mas\u001b[39;00m err:\n",
      "File \u001b[0;32m~/anaconda3/envs/py39/lib/python3.9/site-packages/pandas/_libs/index.pyx:136\u001b[0m, in \u001b[0;36mpandas._libs.index.IndexEngine.get_loc\u001b[0;34m()\u001b[0m\n",
      "File \u001b[0;32m~/anaconda3/envs/py39/lib/python3.9/site-packages/pandas/_libs/index.pyx:163\u001b[0m, in \u001b[0;36mpandas._libs.index.IndexEngine.get_loc\u001b[0;34m()\u001b[0m\n",
      "File \u001b[0;32mpandas/_libs/hashtable_class_helper.pxi:5198\u001b[0m, in \u001b[0;36mpandas._libs.hashtable.PyObjectHashTable.get_item\u001b[0;34m()\u001b[0m\n",
      "File \u001b[0;32mpandas/_libs/hashtable_class_helper.pxi:5206\u001b[0m, in \u001b[0;36mpandas._libs.hashtable.PyObjectHashTable.get_item\u001b[0;34m()\u001b[0m\n",
      "\u001b[0;31mKeyError\u001b[0m: 'l'",
      "\nThe above exception was the direct cause of the following exception:\n",
      "\u001b[0;31mKeyError\u001b[0m                                  Traceback (most recent call last)",
      "\u001b[1;32mUntitled-1.ipynb Cell 7'\u001b[0m in \u001b[0;36m<cell line: 1>\u001b[0;34m()\u001b[0m\n\u001b[0;32m----> <a href='vscode-notebook-cell:Untitled-1.ipynb?jupyter-notebook#ch0000006untitled?line=0'>1</a>\u001b[0m xr\u001b[39m.\u001b[39mDataArray(data[\u001b[39m'\u001b[39m\u001b[39mDl\u001b[39m\u001b[39m'\u001b[39m], coordinates\u001b[39m=\u001b[39m{\u001b[39m'\u001b[39m\u001b[39mell\u001b[39m\u001b[39m'\u001b[39m:data[\u001b[39m'\u001b[39;49m\u001b[39ml\u001b[39;49m\u001b[39m'\u001b[39;49m]})\n",
      "File \u001b[0;32m~/anaconda3/envs/py39/lib/python3.9/site-packages/pandas/core/frame.py:3505\u001b[0m, in \u001b[0;36mDataFrame.__getitem__\u001b[0;34m(self, key)\u001b[0m\n\u001b[1;32m   3503\u001b[0m \u001b[39mif\u001b[39;00m \u001b[39mself\u001b[39m\u001b[39m.\u001b[39mcolumns\u001b[39m.\u001b[39mnlevels \u001b[39m>\u001b[39m \u001b[39m1\u001b[39m:\n\u001b[1;32m   3504\u001b[0m     \u001b[39mreturn\u001b[39;00m \u001b[39mself\u001b[39m\u001b[39m.\u001b[39m_getitem_multilevel(key)\n\u001b[0;32m-> 3505\u001b[0m indexer \u001b[39m=\u001b[39m \u001b[39mself\u001b[39;49m\u001b[39m.\u001b[39;49mcolumns\u001b[39m.\u001b[39;49mget_loc(key)\n\u001b[1;32m   3506\u001b[0m \u001b[39mif\u001b[39;00m is_integer(indexer):\n\u001b[1;32m   3507\u001b[0m     indexer \u001b[39m=\u001b[39m [indexer]\n",
      "File \u001b[0;32m~/anaconda3/envs/py39/lib/python3.9/site-packages/pandas/core/indexes/base.py:3623\u001b[0m, in \u001b[0;36mIndex.get_loc\u001b[0;34m(self, key, method, tolerance)\u001b[0m\n\u001b[1;32m   3621\u001b[0m     \u001b[39mreturn\u001b[39;00m \u001b[39mself\u001b[39m\u001b[39m.\u001b[39m_engine\u001b[39m.\u001b[39mget_loc(casted_key)\n\u001b[1;32m   3622\u001b[0m \u001b[39mexcept\u001b[39;00m \u001b[39mKeyError\u001b[39;00m \u001b[39mas\u001b[39;00m err:\n\u001b[0;32m-> 3623\u001b[0m     \u001b[39mraise\u001b[39;00m \u001b[39mKeyError\u001b[39;00m(key) \u001b[39mfrom\u001b[39;00m \u001b[39merr\u001b[39;00m\n\u001b[1;32m   3624\u001b[0m \u001b[39mexcept\u001b[39;00m \u001b[39mTypeError\u001b[39;00m:\n\u001b[1;32m   3625\u001b[0m     \u001b[39m# If we have a listlike key, _check_indexing_error will raise\u001b[39;00m\n\u001b[1;32m   3626\u001b[0m     \u001b[39m#  InvalidIndexError. Otherwise we fall through and re-raise\u001b[39;00m\n\u001b[1;32m   3627\u001b[0m     \u001b[39m#  the TypeError.\u001b[39;00m\n\u001b[1;32m   3628\u001b[0m     \u001b[39mself\u001b[39m\u001b[39m.\u001b[39m_check_indexing_error(key)\n",
      "\u001b[0;31mKeyError\u001b[0m: 'l'"
     ]
    }
   ],
   "source": [
    "xr.DataArray(data['Dl'], coordinates={'ell':data['l']})"
   ]
  },
  {
   "cell_type": "code",
   "execution_count": 55,
   "metadata": {},
   "outputs": [
    {
     "data": {
      "text/plain": [
       "Index([' l', 'Dl', '-dDl', '+dDl'], dtype='object')"
      ]
     },
     "execution_count": 55,
     "metadata": {},
     "output_type": "execute_result"
    }
   ],
   "source": [
    "data.keys()"
   ]
  },
  {
   "cell_type": "code",
   "execution_count": null,
   "metadata": {},
   "outputs": [],
   "source": []
  }
 ],
 "metadata": {
  "kernelspec": {
   "display_name": "Python 3.9.0 ('py39')",
   "language": "python",
   "name": "python3"
  },
  "language_info": {
   "codemirror_mode": {
    "name": "ipython",
    "version": 3
   },
   "file_extension": ".py",
   "mimetype": "text/x-python",
   "name": "python",
   "nbconvert_exporter": "python",
   "pygments_lexer": "ipython3",
   "version": "3.9.0"
  },
  "orig_nbformat": 4,
  "vscode": {
   "interpreter": {
    "hash": "2dbd9e98c3a08b5149fc316c95f0fdb873ef8ef424db3bbcf4169abde8464907"
   }
  }
 },
 "nbformat": 4,
 "nbformat_minor": 2
}
